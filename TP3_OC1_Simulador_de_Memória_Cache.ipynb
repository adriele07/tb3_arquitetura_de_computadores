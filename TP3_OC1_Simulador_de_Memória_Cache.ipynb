{
  "cells": [
    {
      "cell_type": "markdown",
      "metadata": {
        "colab_type": "text",
        "id": "view-in-github"
      },
      "source": [
        "<a href=\"https://colab.research.google.com/github/adriele07/tb3_arquitetura_de_computadores/blob/main/TP3_OC1_Simulador_de_Mem%C3%B3ria_Cache.ipynb\" target=\"_parent\"><img src=\"https://colab.research.google.com/assets/colab-badge.svg\" alt=\"Open In Colab\"/></a>"
      ]
    },
    {
      "cell_type": "markdown",
      "metadata": {
        "id": "M_fz_KGdMT88"
      },
      "source": [
        "# **Trabalho Prático 3 - Simulador de Memória Cache**\n",
        "\n",
        "Neste trabalho, vocês deveram desenvolver um programa que funcione como um **simulador de memória cache**. O objetivo deste trabalho é proporcionar a prática dos conceitos de **mapeamento direto, associatividade por conjunto e associatividade completa** que foram abordados durante o curso. A prática desses conceitos será essencial para compreender as diferenças entre os métodos de mapeamento e como eles afetam a eficiência e o desempenho da memória cache.\n",
        "\n",
        "Para simplificar o escopo do trabalho, o simulador não tratará os dados reais armazenados na memória. Em outras palavras, apenas o gerenciamento e o posicionamento das linhas na memória cache serão simulados, ignorando o conteúdo dos blocos.\n",
        "\n",
        "\n",
        "**Aluno(s):**"
      ]
    },
    {
      "cell_type": "markdown",
      "metadata": {
        "id": "ZnEDu1mZ-VE6"
      },
      "source": [
        "### **📚 Fundamentos de Cache**\n",
        "\n",
        "Um endereço de memória (por exemplo: 0xDEADBEEF) precisa ser dividido em partes para sabermos onde ele será mapeado na cache. Sendo assim, temos:\n",
        "\n",
        "1. A memória principal é dividida em blocos (do tamanho da linha de cache);\n",
        "\n",
        "2. A cache é dividida em linhas;\n",
        "\n",
        "3. Cada linha pode armazenar 1 bloco da memória principal;\n",
        "\n",
        "4. As linhas são agrupadas em conjuntos, dependendo do grau de associatividade;\n",
        "\n",
        "<br>\n",
        "\n",
        "### **🔢 Exemplo prático**\n",
        "\n",
        "Considere:\n",
        "```\n",
        "O tamanho total da cache: 4096\n",
        "O tamanho de cada linha: 1024\n",
        "Total de linhas: 4096 / 1024 = 4\n",
        "```\n",
        "\n",
        "\n",
        "**1. MAPEAMENTO DIRETO**\n",
        "\n",
        "* 4 linhas ⇒ 4 grupos\n",
        "* Cada endereço mapeia em um único grupo fixo\n",
        "* Número de bits de índice = log2(4) = 2 bits\n",
        "* Offset = log2(1024) = 10 bits\n",
        "* TAG = 32 - 2 - 10 = 20 bits\n",
        "\n",
        "  ```\n",
        "  ENDEREÇO = [TAG = 20 BITs | ÍNDICE = 2 BITs | OFFSET = 10 BITs ]\n",
        "  ```\n",
        "\n",
        "**2. ASSOCIATIVIDADE POR CONJUNTO**\n",
        "\n",
        "* 4 linhas / 2 linhas por grupo ⇒ 2 grupos\n",
        "* Número de bits de índice = log2(2) = 1 bit\n",
        "* Offset = log2(1024) = 10 bits\n",
        "* TAG = 32 - 1 - 10 = 21 bits\n",
        "\n",
        "  ```\n",
        "  ENDEREÇO = [TAG = 21 BITs | ÍNDICE = 1 BIT | OFFSET = 10 BITs ]\n",
        "\n",
        "**3. ASSOCIATIVIDADE COMPLETA**\n",
        "\n",
        "* 4 linhas / 4 linhas por grupo ⇒ 1 grupo\n",
        "* Número de bits de índice = 0 (não há indice)\n",
        "* Offset = log2(1024) = 10 bits\n",
        "* TAG = 32 - 10 = 22 bits\n",
        "\n",
        "  ```\n",
        "  ENDEREÇO = [TAG = 22 BITs | OFFSET = 10 BITs ]\n",
        "  ```\n"
      ]
    },
    {
      "cell_type": "markdown",
      "metadata": {
        "id": "hFy2I_hKxnXF"
      },
      "source": [
        "### **Especificação do simulador**\n",
        "\n",
        "Neste trabalho, o objetivo é desenvolver um programa que funcione como um simulador de memória cache. O simulador será responsável por gerenciar uma cache de apenas um nível, processando acessos à memória RAM, preenchendo as linhas da cache conforme necessário e contabilizando a quantidade de HITS e MISSES ocorridos durante a execução. O programa deverá verificar se um determinado bloco de memória já está presente na cache (HIT) ou se precisa ser carregado da memória principal (MISS). Além disso, o simulador determinará em qual linha da cache um bloco de memória será armazenado, quando necessário.\n",
        "\n",
        "\n",
        "Para simplificar o escopo do trabalho, o simulador não tratará os dados reais armazenados na memória. Em outras palavras, apenas o gerenciamento e o posicionamento das linhas na memória cache serão simulados, ignorando o conteúdo dos blocos.\n",
        "\n",
        "\n",
        "O simulador deverá ser desenvolvido em Python, podendo utilizar qualquer biblioteca adicional que os alunos considerem necessária.\n",
        "\n",
        "\n",
        "**Parâmetros de entrada:**\n",
        "\n",
        "\n",
        "\n",
        "1. **O tamanho total da cache, em bytes**. Se tivermos uma cache de 4KB, por exemplo, iremos digitar 4096.\n",
        "2. **O tamanho de cada linha, em bytes**. Uma linha de 1KB, por exemplo, seria entrada digitando-se 1024.\n",
        "3. **O tamanho de cada grupo, em unidades**. Pensando em uma memória cache de 4KB, e páginas de 1KB, teremos 4 linhas. Se tivermos uma linha por grupo, teremos um sistema de mapeamento direto.  Se tivermos 4 por grupo, teremos um sistema de associatividade completa.\n",
        "\n",
        "\n",
        "\n",
        "\n",
        "**Parâmetros de saida:**\n",
        "\n",
        "\n",
        "A saída do simulador desenvolvido deverá ser salva em uma estrutura de lista de dicionários como o nome `history`, onde cada dicionário representa um acesso individual à cache, contendo as seguintes informações:\n",
        "\n",
        "\n",
        "* **addr:** Endereço de memória acessado, no formato hexadecimal de 32 bits (exatamente 8 dígitos com prefixo 0x e letras maiúsculas). Esse valor corresponde ao identificador do bloco, obtido a partir do endereço original com os bits de deslocamento e, se aplicável, de conjuntos ignorados.\n",
        "\n",
        "\n",
        "* **group:** Número do grupo (ou conjunto) da cache ao qual o bloco foi mapeado. Em caches com associatividade total (fully associative), este valor será sempre 0.\n",
        "\n",
        "\n",
        "* **idx_line:** Índice da linha dentro do grupo utilizada para armazenar o bloco acessado.\n",
        "\n",
        "\n",
        "* **result:** Resultado da operação de leitura na cache. Pode ser \"HIT\" se o bloco já estiver presente na cache, ou \"MISS\" se for necessário carregá-lo da memória principal.\n",
        "\n",
        "\n",
        "\n"
      ]
    },
    {
      "cell_type": "markdown",
      "metadata": {
        "id": "NBjFx-VmzdzL"
      },
      "source": [
        "### **Parâmetros fixos do simulador**\n",
        "\n",
        "\n",
        "1. O espaço de endereçamento será de **32 bits**;\n",
        "2. Os endereços sempre referenciam **bytes**, e não palavras;\n",
        "3. A política de substituição de páginas é a **FIFO (First In First Out)**;\n",
        "4. A alocação de linhas em um conjunto **seguirá a ordem**. Ou seja, se tivermos um conjunto de tamanho dois, vamos primeiro armazenar o bloco na primeira linha do conjunto, e em seguida na segunda;\n",
        "5. As linhas de um conjunto serão armazenadas de **forma consecutiva** na cache (uma atrás da outra);\n",
        "6. Teremos **menos de mil linhas** de cache.\n"
      ]
    },
    {
      "cell_type": "markdown",
      "metadata": {
        "id": "fa088XwwiR3U"
      },
      "source": [
        "# **Simulador de Memória Cache**"
      ]
    },
    {
      "cell_type": "code",
      "execution_count": 1,
      "metadata": {
        "id": "hqp_9w4riXfa"
      },
      "outputs": [],
      "source": [
        "### Desenvolva seu código aqui\n",
        "# Função principal do simulador de memória cache\n",
        "import math\n",
        "from collections import deque\n",
        "\n",
        "def simulador_cache(cache_size, line_size, associativity, enderecos):\n",
        "    history = []\n",
        "    num_lines = cache_size // line_size\n",
        "    num_groups = num_lines // associativity\n",
        "    offset_bits = int(math.log2(line_size))\n",
        "    group_bits = int(math.log2(num_groups)) if num_groups > 1 else 0\n",
        "\n",
        "    # Inicializa a cache: lista de deques (um para cada grupo)\n",
        "    cache = [deque(maxlen=associativity) for _ in range(num_groups)]\n",
        "\n",
        "    for addr_str in enderecos:\n",
        "        addr_int = int(addr_str, 16)\n",
        "        # Remove bits de offset\n",
        "        bloco = addr_int >> offset_bits\n",
        "        # Calcula grupo (conjunto)\n",
        "        if num_groups > 1:\n",
        "            group = bloco & (num_groups - 1)\n",
        "        else:\n",
        "            group = 0\n",
        "        # Remove bits do grupo para obter o identificador do bloco\n",
        "        bloco_id = bloco >> group_bits\n",
        "        # Formata identificador do bloco para 8 dígitos hexadecimais\n",
        "        bloco_id_str = f\"0x{bloco_id:08X}\"\n",
        "        # Verifica se está na cache (HIT)\n",
        "        linhas = cache[group]\n",
        "        hit = False\n",
        "        idx_line = None\n",
        "        for idx, tag in enumerate(linhas):\n",
        "            if tag == bloco_id:\n",
        "                hit = True\n",
        "                idx_line = idx\n",
        "                break\n",
        "        if hit:\n",
        "            result = \"HIT\"\n",
        "        else:\n",
        "            result = \"MISS\"\n",
        "            # FIFO: adiciona o novo bloco\n",
        "            if len(linhas) < associativity:\n",
        "                linhas.append(bloco_id)\n",
        "                idx_line = len(linhas) - 1\n",
        "            else:\n",
        "                linhas.popleft()\n",
        "                linhas.append(bloco_id)\n",
        "                idx_line = len(linhas) - 1\n",
        "        history.append({\n",
        "            'addr': bloco_id_str,\n",
        "            'group': group,\n",
        "            'idx_line': idx_line,\n",
        "            'result': result\n",
        "        })\n",
        "    return history\n",
        "\n",
        "# Exemplo de uso:\n",
        "# history = simulador_cache(cache_size, line_size, associativity, entrada1)\n",
        "# imprimir_resultados(history, cache_size, line_size, associativity)"
      ]
    },
    {
      "cell_type": "markdown",
      "metadata": {
        "id": "VLZy2meaW1Jr"
      },
      "source": [
        "### **Função de visualizacão da Cache**"
      ]
    },
    {
      "cell_type": "code",
      "execution_count": 2,
      "metadata": {
        "id": "scR_9qMlhiiZ"
      },
      "outputs": [],
      "source": [
        "import pandas as pd\n",
        "from IPython.display import display, HTML, clear_output\n",
        "import ipywidgets as widgets\n",
        "\n",
        "def imprimir_resultados(historico, cache_size, line_size, associativity):\n",
        "    df = pd.DataFrame(historico)\n",
        "\n",
        "    num_lines = cache_size // line_size\n",
        "    num_groups = num_lines // associativity\n",
        "\n",
        "    # === Histórico ===\n",
        "    print(\"\\n=== Histórico de Acessos ===\")\n",
        "    def color_result(val):\n",
        "        if val == \"HIT\":\n",
        "            return \"background-color: lightgreen; text-align: center\"\n",
        "        elif val == \"MISS\":\n",
        "            return \"background-color: lightcoral; text-align: center\"\n",
        "        else:\n",
        "            return \"\"\n",
        "\n",
        "    styled_df = df.style.map(color_result, subset=[\"result\"]).set_properties(**{\n",
        "        'text-align': 'center'\n",
        "    }).set_table_attributes('style=\"margin: auto\"')\n",
        "\n",
        "    display(styled_df)\n",
        "\n",
        "    # === Contadores ===\n",
        "    hits = (df[\"result\"] == \"HIT\").sum()\n",
        "    misses = (df[\"result\"] == \"MISS\").sum()\n",
        "\n",
        "    print(f\"\\nHITs: {hits}\")\n",
        "    print(f\"MISSes: {misses}\")\n",
        "\n",
        "    # === Estado final da cache ===\n",
        "    ultima_ocorrencia = (\n",
        "        df[df[\"result\"] == \"MISS\"]\n",
        "        .drop_duplicates(subset=[\"group\", \"idx_line\"], keep='last')\n",
        "    )\n",
        "\n",
        "    estado_cache = []\n",
        "    for group in range(num_groups):\n",
        "        for idx_line in range(associativity):\n",
        "            match = ultima_ocorrencia.query(\"group == @group and idx_line == @idx_line\")\n",
        "            addr = match.iloc[0][\"addr\"] if not match.empty else \"-\"\n",
        "            estado_cache.append({\n",
        "                'group': group,\n",
        "                'idx_line': idx_line,\n",
        "                'addr': addr\n",
        "            })\n",
        "\n",
        "    estado_df = pd.DataFrame(estado_cache)\n",
        "\n",
        "    print(\"\\n=== Estado Final da Cache ===\")\n",
        "    styled_estado = estado_df.style.map(\n",
        "        lambda v: \"background-color: lightgray; text-align: center\" if v == \"-\" else \"text-align: center\",\n",
        "        subset=[\"addr\"]\n",
        "    ).set_properties(**{\n",
        "        'text-align': 'center'\n",
        "    }).set_table_attributes('style=\"margin: auto\"')\n",
        "\n",
        "    display(styled_estado)\n",
        "\n",
        "    # === Interatividade: passo a passo ===\n",
        "    print(\"\\n=== Evolução da Cache (passo a passo) ===\")\n",
        "\n",
        "    slider = widgets.IntSlider(\n",
        "        value=0,\n",
        "        min=0,\n",
        "        max=len(df),\n",
        "        step=1,\n",
        "        description='Passo:',\n",
        "        continuous_update=False\n",
        "    )\n",
        "\n",
        "    output = widgets.Output()\n",
        "\n",
        "    def atualizar_cache(passo):\n",
        "        with output:\n",
        "            clear_output(wait=True)\n",
        "\n",
        "            if passo == 0:\n",
        "                print(\"⚠️ Nenhum acesso realizado ainda.\")\n",
        "                return\n",
        "\n",
        "            parcial = df.iloc[:passo]\n",
        "            ult_parcial = (\n",
        "                parcial[parcial[\"result\"] == \"MISS\"]\n",
        "                .drop_duplicates(subset=[\"group\", \"idx_line\"], keep='last')\n",
        "            )\n",
        "\n",
        "            estado_parcial = []\n",
        "            for group in range(num_groups):\n",
        "                for idx_line in range(associativity):\n",
        "                    match = ult_parcial.query(\"group == @group and idx_line == @idx_line\")\n",
        "                    addr = match.iloc[0][\"addr\"] if not match.empty else \"-\"\n",
        "                    estado_parcial.append({\n",
        "                        'group': group,\n",
        "                        'idx_line': idx_line,\n",
        "                        'addr': addr\n",
        "                    })\n",
        "\n",
        "            parcial_df = pd.DataFrame(estado_parcial)\n",
        "\n",
        "            print(f\"📍 Acesso {passo}/{len(df)}: addr = {df.iloc[passo-1]['addr']} | result = {df.iloc[passo-1]['result']}\")\n",
        "            styled_parcial = parcial_df.style.map(\n",
        "                lambda v: \"background-color: lightgray; text-align: center\" if v == \"-\" else \"text-align: center\",\n",
        "                subset=[\"addr\"]\n",
        "            ).set_properties(**{\n",
        "                'text-align': 'center'\n",
        "            }).set_table_attributes('style=\"margin: auto\"')\n",
        "\n",
        "            display(styled_parcial)\n",
        "\n",
        "    slider.observe(lambda change: atualizar_cache(change[\"new\"]), names=\"value\")\n",
        "\n",
        "    display(slider, output)\n",
        "    atualizar_cache(0)"
      ]
    },
    {
      "cell_type": "markdown",
      "metadata": {
        "id": "E5YfJjm-W7wX"
      },
      "source": [
        "### **EXEMPLO 1**"
      ]
    },
    {
      "cell_type": "code",
      "execution_count": 3,
      "metadata": {
        "colab": {
          "base_uri": "https://localhost:8080/",
          "height": 587,
          "referenced_widgets": [
            "6a8911ddc99b426d8d52ede968ff63b7",
            "a773e73ca9f34fcf960cdbc1b869fa50",
            "40e5e3e5c6dc4b7b8eb6f5bbc22fabc1",
            "a40ee0c618e241f0a82e6ddefbe27082",
            "d4111dcd66f8444aac3afde5cad43aa7"
          ]
        },
        "id": "ZSoQnj6abst6",
        "outputId": "ddcd52db-5830-453d-8512-f817a32365d1"
      },
      "outputs": [
        {
          "name": "stdout",
          "output_type": "stream",
          "text": [
            "\n",
            "=== Histórico de Acessos ===\n"
          ]
        },
        {
          "data": {
            "text/html": [
              "<style type=\"text/css\">\n",
              "#T_59713_row0_col0, #T_59713_row0_col1, #T_59713_row0_col2, #T_59713_row1_col0, #T_59713_row1_col1, #T_59713_row1_col2, #T_59713_row2_col0, #T_59713_row2_col1, #T_59713_row2_col2, #T_59713_row3_col0, #T_59713_row3_col1, #T_59713_row3_col2, #T_59713_row4_col0, #T_59713_row4_col1, #T_59713_row4_col2 {\n",
              "  text-align: center;\n",
              "}\n",
              "#T_59713_row0_col3, #T_59713_row1_col3, #T_59713_row2_col3, #T_59713_row3_col3, #T_59713_row4_col3 {\n",
              "  background-color: lightcoral;\n",
              "  text-align: center;\n",
              "  text-align: center;\n",
              "}\n",
              "</style>\n",
              "<table id=\"T_59713\" style=\"margin: auto\">\n",
              "  <thead>\n",
              "    <tr>\n",
              "      <th class=\"blank level0\" >&nbsp;</th>\n",
              "      <th id=\"T_59713_level0_col0\" class=\"col_heading level0 col0\" >addr</th>\n",
              "      <th id=\"T_59713_level0_col1\" class=\"col_heading level0 col1\" >group</th>\n",
              "      <th id=\"T_59713_level0_col2\" class=\"col_heading level0 col2\" >idx_line</th>\n",
              "      <th id=\"T_59713_level0_col3\" class=\"col_heading level0 col3\" >result</th>\n",
              "    </tr>\n",
              "  </thead>\n",
              "  <tbody>\n",
              "    <tr>\n",
              "      <th id=\"T_59713_level0_row0\" class=\"row_heading level0 row0\" >0</th>\n",
              "      <td id=\"T_59713_row0_col0\" class=\"data row0 col0\" >0x00032E21</td>\n",
              "      <td id=\"T_59713_row0_col1\" class=\"data row0 col1\" >0</td>\n",
              "      <td id=\"T_59713_row0_col2\" class=\"data row0 col2\" >0</td>\n",
              "      <td id=\"T_59713_row0_col3\" class=\"data row0 col3\" >MISS</td>\n",
              "    </tr>\n",
              "    <tr>\n",
              "      <th id=\"T_59713_level0_row1\" class=\"row_heading level0 row1\" >1</th>\n",
              "      <td id=\"T_59713_row1_col0\" class=\"data row1 col0\" >0x0001AF22</td>\n",
              "      <td id=\"T_59713_row1_col1\" class=\"data row1 col1\" >0</td>\n",
              "      <td id=\"T_59713_row1_col2\" class=\"data row1 col2\" >1</td>\n",
              "      <td id=\"T_59713_row1_col3\" class=\"data row1 col3\" >MISS</td>\n",
              "    </tr>\n",
              "    <tr>\n",
              "      <th id=\"T_59713_level0_row2\" class=\"row_heading level0 row2\" >2</th>\n",
              "      <td id=\"T_59713_row2_col0\" class=\"data row2 col0\" >0x000DE72E</td>\n",
              "      <td id=\"T_59713_row2_col1\" class=\"data row2 col1\" >0</td>\n",
              "      <td id=\"T_59713_row2_col2\" class=\"data row2 col2\" >2</td>\n",
              "      <td id=\"T_59713_row2_col3\" class=\"data row2 col3\" >MISS</td>\n",
              "    </tr>\n",
              "    <tr>\n",
              "      <th id=\"T_59713_level0_row3\" class=\"row_heading level0 row3\" >3</th>\n",
              "      <td id=\"T_59713_row3_col0\" class=\"data row3 col0\" >0x000A3CC4</td>\n",
              "      <td id=\"T_59713_row3_col1\" class=\"data row3 col1\" >0</td>\n",
              "      <td id=\"T_59713_row3_col2\" class=\"data row3 col2\" >3</td>\n",
              "      <td id=\"T_59713_row3_col3\" class=\"data row3 col3\" >MISS</td>\n",
              "    </tr>\n",
              "    <tr>\n",
              "      <th id=\"T_59713_level0_row4\" class=\"row_heading level0 row4\" >4</th>\n",
              "      <td id=\"T_59713_row4_col0\" class=\"data row4 col0\" >0x0001BE63</td>\n",
              "      <td id=\"T_59713_row4_col1\" class=\"data row4 col1\" >0</td>\n",
              "      <td id=\"T_59713_row4_col2\" class=\"data row4 col2\" >3</td>\n",
              "      <td id=\"T_59713_row4_col3\" class=\"data row4 col3\" >MISS</td>\n",
              "    </tr>\n",
              "  </tbody>\n",
              "</table>\n"
            ],
            "text/plain": [
              "<pandas.io.formats.style.Styler at 0x7f45caa4f070>"
            ]
          },
          "metadata": {},
          "output_type": "display_data"
        },
        {
          "name": "stdout",
          "output_type": "stream",
          "text": [
            "\n",
            "HITs: 0\n",
            "MISSes: 5\n",
            "\n",
            "=== Estado Final da Cache ===\n"
          ]
        },
        {
          "data": {
            "text/html": [
              "<style type=\"text/css\">\n",
              "#T_28de0_row0_col0, #T_28de0_row0_col1, #T_28de0_row1_col0, #T_28de0_row1_col1, #T_28de0_row2_col0, #T_28de0_row2_col1, #T_28de0_row3_col0, #T_28de0_row3_col1 {\n",
              "  text-align: center;\n",
              "}\n",
              "#T_28de0_row0_col2, #T_28de0_row1_col2, #T_28de0_row2_col2, #T_28de0_row3_col2 {\n",
              "  text-align: center;\n",
              "  text-align: center;\n",
              "}\n",
              "</style>\n",
              "<table id=\"T_28de0\" style=\"margin: auto\">\n",
              "  <thead>\n",
              "    <tr>\n",
              "      <th class=\"blank level0\" >&nbsp;</th>\n",
              "      <th id=\"T_28de0_level0_col0\" class=\"col_heading level0 col0\" >group</th>\n",
              "      <th id=\"T_28de0_level0_col1\" class=\"col_heading level0 col1\" >idx_line</th>\n",
              "      <th id=\"T_28de0_level0_col2\" class=\"col_heading level0 col2\" >addr</th>\n",
              "    </tr>\n",
              "  </thead>\n",
              "  <tbody>\n",
              "    <tr>\n",
              "      <th id=\"T_28de0_level0_row0\" class=\"row_heading level0 row0\" >0</th>\n",
              "      <td id=\"T_28de0_row0_col0\" class=\"data row0 col0\" >0</td>\n",
              "      <td id=\"T_28de0_row0_col1\" class=\"data row0 col1\" >0</td>\n",
              "      <td id=\"T_28de0_row0_col2\" class=\"data row0 col2\" >0x00032E21</td>\n",
              "    </tr>\n",
              "    <tr>\n",
              "      <th id=\"T_28de0_level0_row1\" class=\"row_heading level0 row1\" >1</th>\n",
              "      <td id=\"T_28de0_row1_col0\" class=\"data row1 col0\" >0</td>\n",
              "      <td id=\"T_28de0_row1_col1\" class=\"data row1 col1\" >1</td>\n",
              "      <td id=\"T_28de0_row1_col2\" class=\"data row1 col2\" >0x0001AF22</td>\n",
              "    </tr>\n",
              "    <tr>\n",
              "      <th id=\"T_28de0_level0_row2\" class=\"row_heading level0 row2\" >2</th>\n",
              "      <td id=\"T_28de0_row2_col0\" class=\"data row2 col0\" >0</td>\n",
              "      <td id=\"T_28de0_row2_col1\" class=\"data row2 col1\" >2</td>\n",
              "      <td id=\"T_28de0_row2_col2\" class=\"data row2 col2\" >0x000DE72E</td>\n",
              "    </tr>\n",
              "    <tr>\n",
              "      <th id=\"T_28de0_level0_row3\" class=\"row_heading level0 row3\" >3</th>\n",
              "      <td id=\"T_28de0_row3_col0\" class=\"data row3 col0\" >0</td>\n",
              "      <td id=\"T_28de0_row3_col1\" class=\"data row3 col1\" >3</td>\n",
              "      <td id=\"T_28de0_row3_col2\" class=\"data row3 col2\" >0x0001BE63</td>\n",
              "    </tr>\n",
              "  </tbody>\n",
              "</table>\n"
            ],
            "text/plain": [
              "<pandas.io.formats.style.Styler at 0x7f45caa50520>"
            ]
          },
          "metadata": {},
          "output_type": "display_data"
        },
        {
          "name": "stdout",
          "output_type": "stream",
          "text": [
            "\n",
            "=== Evolução da Cache (passo a passo) ===\n"
          ]
        },
        {
          "data": {
            "application/vnd.jupyter.widget-view+json": {
              "model_id": "d388acee25244a3a8b97db013c24b9e1",
              "version_major": 2,
              "version_minor": 0
            },
            "text/plain": [
              "IntSlider(value=0, continuous_update=False, description='Passo:', max=5)"
            ]
          },
          "metadata": {},
          "output_type": "display_data"
        },
        {
          "data": {
            "application/vnd.jupyter.widget-view+json": {
              "model_id": "40114b232c6f49c2a452c9ac186d57f9",
              "version_major": 2,
              "version_minor": 0
            },
            "text/plain": [
              "Output()"
            ]
          },
          "metadata": {},
          "output_type": "display_data"
        }
      ],
      "source": [
        "# Parâmetros de entrada\n",
        "cache_size = 4096\n",
        "line_size = 1024\n",
        "associativity = 4\n",
        "\n",
        "entrada1 = [\n",
        "    '0x0CB886CA',\n",
        "    '0x06BC89BA',\n",
        "    '0x379CBAD1',\n",
        "    '0x28F3123B',\n",
        "    '0x06F98ED5'\n",
        "]\n",
        "\n",
        "history = simulador_cache(cache_size, line_size, associativity, entrada1)\n",
        "\n",
        "imprimir_resultados(history, cache_size, line_size, associativity)"
      ]
    },
    {
      "cell_type": "markdown",
      "metadata": {
        "id": "5bocqk5HXbYT"
      },
      "source": [
        "### **EXEMPLO 2**"
      ]
    },
    {
      "cell_type": "code",
      "execution_count": 4,
      "metadata": {
        "colab": {
          "base_uri": "https://localhost:8080/",
          "height": 649,
          "referenced_widgets": [
            "44ab4fc02d534b3480e428c4318904ac",
            "c08fc455115d4f3cb57ca555dfad2e80",
            "a11068a8b5794ba88fe02b84ecc178aa",
            "ca8880ea8d64449cb9ced855140057a3",
            "1206bb4afec3449c902407bcf9cb5b3d"
          ]
        },
        "id": "LkoL_GqjXfon",
        "outputId": "875bcd59-7b2b-44e4-9fb0-010e28ff9c0e"
      },
      "outputs": [
        {
          "name": "stdout",
          "output_type": "stream",
          "text": [
            "\n",
            "=== Histórico de Acessos ===\n"
          ]
        },
        {
          "data": {
            "text/html": [
              "<style type=\"text/css\">\n",
              "#T_0fd80_row0_col0, #T_0fd80_row0_col1, #T_0fd80_row0_col2, #T_0fd80_row1_col0, #T_0fd80_row1_col1, #T_0fd80_row1_col2, #T_0fd80_row2_col0, #T_0fd80_row2_col1, #T_0fd80_row2_col2, #T_0fd80_row3_col0, #T_0fd80_row3_col1, #T_0fd80_row3_col2, #T_0fd80_row4_col0, #T_0fd80_row4_col1, #T_0fd80_row4_col2, #T_0fd80_row5_col0, #T_0fd80_row5_col1, #T_0fd80_row5_col2, #T_0fd80_row6_col0, #T_0fd80_row6_col1, #T_0fd80_row6_col2 {\n",
              "  text-align: center;\n",
              "}\n",
              "#T_0fd80_row0_col3, #T_0fd80_row1_col3, #T_0fd80_row2_col3, #T_0fd80_row3_col3, #T_0fd80_row4_col3 {\n",
              "  background-color: lightcoral;\n",
              "  text-align: center;\n",
              "  text-align: center;\n",
              "}\n",
              "#T_0fd80_row5_col3, #T_0fd80_row6_col3 {\n",
              "  background-color: lightgreen;\n",
              "  text-align: center;\n",
              "  text-align: center;\n",
              "}\n",
              "</style>\n",
              "<table id=\"T_0fd80\" style=\"margin: auto\">\n",
              "  <thead>\n",
              "    <tr>\n",
              "      <th class=\"blank level0\" >&nbsp;</th>\n",
              "      <th id=\"T_0fd80_level0_col0\" class=\"col_heading level0 col0\" >addr</th>\n",
              "      <th id=\"T_0fd80_level0_col1\" class=\"col_heading level0 col1\" >group</th>\n",
              "      <th id=\"T_0fd80_level0_col2\" class=\"col_heading level0 col2\" >idx_line</th>\n",
              "      <th id=\"T_0fd80_level0_col3\" class=\"col_heading level0 col3\" >result</th>\n",
              "    </tr>\n",
              "  </thead>\n",
              "  <tbody>\n",
              "    <tr>\n",
              "      <th id=\"T_0fd80_level0_row0\" class=\"row_heading level0 row0\" >0</th>\n",
              "      <td id=\"T_0fd80_row0_col0\" class=\"data row0 col0\" >0x00032E21</td>\n",
              "      <td id=\"T_0fd80_row0_col1\" class=\"data row0 col1\" >0</td>\n",
              "      <td id=\"T_0fd80_row0_col2\" class=\"data row0 col2\" >0</td>\n",
              "      <td id=\"T_0fd80_row0_col3\" class=\"data row0 col3\" >MISS</td>\n",
              "    </tr>\n",
              "    <tr>\n",
              "      <th id=\"T_0fd80_level0_row1\" class=\"row_heading level0 row1\" >1</th>\n",
              "      <td id=\"T_0fd80_row1_col0\" class=\"data row1 col0\" >0x0001AF22</td>\n",
              "      <td id=\"T_0fd80_row1_col1\" class=\"data row1 col1\" >0</td>\n",
              "      <td id=\"T_0fd80_row1_col2\" class=\"data row1 col2\" >1</td>\n",
              "      <td id=\"T_0fd80_row1_col3\" class=\"data row1 col3\" >MISS</td>\n",
              "    </tr>\n",
              "    <tr>\n",
              "      <th id=\"T_0fd80_level0_row2\" class=\"row_heading level0 row2\" >2</th>\n",
              "      <td id=\"T_0fd80_row2_col0\" class=\"data row2 col0\" >0x000DE72E</td>\n",
              "      <td id=\"T_0fd80_row2_col1\" class=\"data row2 col1\" >0</td>\n",
              "      <td id=\"T_0fd80_row2_col2\" class=\"data row2 col2\" >2</td>\n",
              "      <td id=\"T_0fd80_row2_col3\" class=\"data row2 col3\" >MISS</td>\n",
              "    </tr>\n",
              "    <tr>\n",
              "      <th id=\"T_0fd80_level0_row3\" class=\"row_heading level0 row3\" >3</th>\n",
              "      <td id=\"T_0fd80_row3_col0\" class=\"data row3 col0\" >0x000A3CC4</td>\n",
              "      <td id=\"T_0fd80_row3_col1\" class=\"data row3 col1\" >0</td>\n",
              "      <td id=\"T_0fd80_row3_col2\" class=\"data row3 col2\" >3</td>\n",
              "      <td id=\"T_0fd80_row3_col3\" class=\"data row3 col3\" >MISS</td>\n",
              "    </tr>\n",
              "    <tr>\n",
              "      <th id=\"T_0fd80_level0_row4\" class=\"row_heading level0 row4\" >4</th>\n",
              "      <td id=\"T_0fd80_row4_col0\" class=\"data row4 col0\" >0x0001BE63</td>\n",
              "      <td id=\"T_0fd80_row4_col1\" class=\"data row4 col1\" >0</td>\n",
              "      <td id=\"T_0fd80_row4_col2\" class=\"data row4 col2\" >3</td>\n",
              "      <td id=\"T_0fd80_row4_col3\" class=\"data row4 col3\" >MISS</td>\n",
              "    </tr>\n",
              "    <tr>\n",
              "      <th id=\"T_0fd80_level0_row5\" class=\"row_heading level0 row5\" >5</th>\n",
              "      <td id=\"T_0fd80_row5_col0\" class=\"data row5 col0\" >0x0001BE63</td>\n",
              "      <td id=\"T_0fd80_row5_col1\" class=\"data row5 col1\" >0</td>\n",
              "      <td id=\"T_0fd80_row5_col2\" class=\"data row5 col2\" >3</td>\n",
              "      <td id=\"T_0fd80_row5_col3\" class=\"data row5 col3\" >HIT</td>\n",
              "    </tr>\n",
              "    <tr>\n",
              "      <th id=\"T_0fd80_level0_row6\" class=\"row_heading level0 row6\" >6</th>\n",
              "      <td id=\"T_0fd80_row6_col0\" class=\"data row6 col0\" >0x0001AF22</td>\n",
              "      <td id=\"T_0fd80_row6_col1\" class=\"data row6 col1\" >0</td>\n",
              "      <td id=\"T_0fd80_row6_col2\" class=\"data row6 col2\" >0</td>\n",
              "      <td id=\"T_0fd80_row6_col3\" class=\"data row6 col3\" >HIT</td>\n",
              "    </tr>\n",
              "  </tbody>\n",
              "</table>\n"
            ],
            "text/plain": [
              "<pandas.io.formats.style.Styler at 0x7f45cabba790>"
            ]
          },
          "metadata": {},
          "output_type": "display_data"
        },
        {
          "name": "stdout",
          "output_type": "stream",
          "text": [
            "\n",
            "HITs: 2\n",
            "MISSes: 5\n"
          ]
        },
        {
          "name": "stdout",
          "output_type": "stream",
          "text": [
            "\n",
            "=== Estado Final da Cache ===\n"
          ]
        },
        {
          "data": {
            "text/html": [
              "<style type=\"text/css\">\n",
              "#T_86e13_row0_col0, #T_86e13_row0_col1, #T_86e13_row1_col0, #T_86e13_row1_col1, #T_86e13_row2_col0, #T_86e13_row2_col1, #T_86e13_row3_col0, #T_86e13_row3_col1 {\n",
              "  text-align: center;\n",
              "}\n",
              "#T_86e13_row0_col2, #T_86e13_row1_col2, #T_86e13_row2_col2, #T_86e13_row3_col2 {\n",
              "  text-align: center;\n",
              "  text-align: center;\n",
              "}\n",
              "</style>\n",
              "<table id=\"T_86e13\" style=\"margin: auto\">\n",
              "  <thead>\n",
              "    <tr>\n",
              "      <th class=\"blank level0\" >&nbsp;</th>\n",
              "      <th id=\"T_86e13_level0_col0\" class=\"col_heading level0 col0\" >group</th>\n",
              "      <th id=\"T_86e13_level0_col1\" class=\"col_heading level0 col1\" >idx_line</th>\n",
              "      <th id=\"T_86e13_level0_col2\" class=\"col_heading level0 col2\" >addr</th>\n",
              "    </tr>\n",
              "  </thead>\n",
              "  <tbody>\n",
              "    <tr>\n",
              "      <th id=\"T_86e13_level0_row0\" class=\"row_heading level0 row0\" >0</th>\n",
              "      <td id=\"T_86e13_row0_col0\" class=\"data row0 col0\" >0</td>\n",
              "      <td id=\"T_86e13_row0_col1\" class=\"data row0 col1\" >0</td>\n",
              "      <td id=\"T_86e13_row0_col2\" class=\"data row0 col2\" >0x00032E21</td>\n",
              "    </tr>\n",
              "    <tr>\n",
              "      <th id=\"T_86e13_level0_row1\" class=\"row_heading level0 row1\" >1</th>\n",
              "      <td id=\"T_86e13_row1_col0\" class=\"data row1 col0\" >0</td>\n",
              "      <td id=\"T_86e13_row1_col1\" class=\"data row1 col1\" >1</td>\n",
              "      <td id=\"T_86e13_row1_col2\" class=\"data row1 col2\" >0x0001AF22</td>\n",
              "    </tr>\n",
              "    <tr>\n",
              "      <th id=\"T_86e13_level0_row2\" class=\"row_heading level0 row2\" >2</th>\n",
              "      <td id=\"T_86e13_row2_col0\" class=\"data row2 col0\" >0</td>\n",
              "      <td id=\"T_86e13_row2_col1\" class=\"data row2 col1\" >2</td>\n",
              "      <td id=\"T_86e13_row2_col2\" class=\"data row2 col2\" >0x000DE72E</td>\n",
              "    </tr>\n",
              "    <tr>\n",
              "      <th id=\"T_86e13_level0_row3\" class=\"row_heading level0 row3\" >3</th>\n",
              "      <td id=\"T_86e13_row3_col0\" class=\"data row3 col0\" >0</td>\n",
              "      <td id=\"T_86e13_row3_col1\" class=\"data row3 col1\" >3</td>\n",
              "      <td id=\"T_86e13_row3_col2\" class=\"data row3 col2\" >0x0001BE63</td>\n",
              "    </tr>\n",
              "  </tbody>\n",
              "</table>\n"
            ],
            "text/plain": [
              "<pandas.io.formats.style.Styler at 0x7f45caa4ce80>"
            ]
          },
          "metadata": {},
          "output_type": "display_data"
        },
        {
          "name": "stdout",
          "output_type": "stream",
          "text": [
            "\n",
            "=== Evolução da Cache (passo a passo) ===\n"
          ]
        },
        {
          "data": {
            "application/vnd.jupyter.widget-view+json": {
              "model_id": "b81dfa4dc84d4cfe9c01547ca26a9236",
              "version_major": 2,
              "version_minor": 0
            },
            "text/plain": [
              "IntSlider(value=0, continuous_update=False, description='Passo:', max=7)"
            ]
          },
          "metadata": {},
          "output_type": "display_data"
        },
        {
          "data": {
            "application/vnd.jupyter.widget-view+json": {
              "model_id": "ca52817efa4a4a40bb026fea25645aeb",
              "version_major": 2,
              "version_minor": 0
            },
            "text/plain": [
              "Output()"
            ]
          },
          "metadata": {},
          "output_type": "display_data"
        }
      ],
      "source": [
        "# Parâmetros de entrada\n",
        "cache_size = 4096\n",
        "line_size = 1024\n",
        "associativity = 4\n",
        "\n",
        "entrada2 = [\n",
        "  '0x0CB886CA',\n",
        "  '0x06BC89BA',\n",
        "  '0x379CBAD1',\n",
        "  '0x28F3123B',\n",
        "  '0x06F98ED5',\n",
        "  '0x06F98ED8',\n",
        "  '0x06BC89BA'\n",
        "]\n",
        "\n",
        "history = simulador_cache(cache_size, line_size, associativity, entrada2)\n",
        "\n",
        "imprimir_resultados(history, cache_size, line_size, associativity)"
      ]
    },
    {
      "cell_type": "markdown",
      "metadata": {
        "id": "nTr18z0uX3Ah"
      },
      "source": [
        "### **EXEMPLO 3**"
      ]
    },
    {
      "cell_type": "code",
      "execution_count": 5,
      "metadata": {
        "colab": {
          "base_uri": "https://localhost:8080/",
          "height": 649,
          "referenced_widgets": [
            "162a417047a640b293502a26d025512d",
            "c20fbb41563b42c9bafaed9b4d766164",
            "4bc98279b4244863b049465f4dc3ded9",
            "5c739c5e64244527be9417b7cab2208e",
            "f76dad4ee1b641f986188df29ff9ecb9"
          ]
        },
        "id": "RiPKE4XBX5mZ",
        "outputId": "5027ae21-a087-4818-939e-9754783930ff"
      },
      "outputs": [
        {
          "name": "stdout",
          "output_type": "stream",
          "text": [
            "\n",
            "=== Histórico de Acessos ===\n"
          ]
        },
        {
          "data": {
            "text/html": [
              "<style type=\"text/css\">\n",
              "#T_46365_row0_col0, #T_46365_row0_col1, #T_46365_row0_col2, #T_46365_row1_col0, #T_46365_row1_col1, #T_46365_row1_col2, #T_46365_row2_col0, #T_46365_row2_col1, #T_46365_row2_col2, #T_46365_row3_col0, #T_46365_row3_col1, #T_46365_row3_col2, #T_46365_row4_col0, #T_46365_row4_col1, #T_46365_row4_col2, #T_46365_row5_col0, #T_46365_row5_col1, #T_46365_row5_col2, #T_46365_row6_col0, #T_46365_row6_col1, #T_46365_row6_col2 {\n",
              "  text-align: center;\n",
              "}\n",
              "#T_46365_row0_col3, #T_46365_row1_col3, #T_46365_row2_col3, #T_46365_row3_col3, #T_46365_row4_col3, #T_46365_row6_col3 {\n",
              "  background-color: lightcoral;\n",
              "  text-align: center;\n",
              "  text-align: center;\n",
              "}\n",
              "#T_46365_row5_col3 {\n",
              "  background-color: lightgreen;\n",
              "  text-align: center;\n",
              "  text-align: center;\n",
              "}\n",
              "</style>\n",
              "<table id=\"T_46365\" style=\"margin: auto\">\n",
              "  <thead>\n",
              "    <tr>\n",
              "      <th class=\"blank level0\" >&nbsp;</th>\n",
              "      <th id=\"T_46365_level0_col0\" class=\"col_heading level0 col0\" >addr</th>\n",
              "      <th id=\"T_46365_level0_col1\" class=\"col_heading level0 col1\" >group</th>\n",
              "      <th id=\"T_46365_level0_col2\" class=\"col_heading level0 col2\" >idx_line</th>\n",
              "      <th id=\"T_46365_level0_col3\" class=\"col_heading level0 col3\" >result</th>\n",
              "    </tr>\n",
              "  </thead>\n",
              "  <tbody>\n",
              "    <tr>\n",
              "      <th id=\"T_46365_level0_row0\" class=\"row_heading level0 row0\" >0</th>\n",
              "      <td id=\"T_46365_row0_col0\" class=\"data row0 col0\" >0x00032E21</td>\n",
              "      <td id=\"T_46365_row0_col1\" class=\"data row0 col1\" >0</td>\n",
              "      <td id=\"T_46365_row0_col2\" class=\"data row0 col2\" >0</td>\n",
              "      <td id=\"T_46365_row0_col3\" class=\"data row0 col3\" >MISS</td>\n",
              "    </tr>\n",
              "    <tr>\n",
              "      <th id=\"T_46365_level0_row1\" class=\"row_heading level0 row1\" >1</th>\n",
              "      <td id=\"T_46365_row1_col0\" class=\"data row1 col0\" >0x0001AF22</td>\n",
              "      <td id=\"T_46365_row1_col1\" class=\"data row1 col1\" >0</td>\n",
              "      <td id=\"T_46365_row1_col2\" class=\"data row1 col2\" >1</td>\n",
              "      <td id=\"T_46365_row1_col3\" class=\"data row1 col3\" >MISS</td>\n",
              "    </tr>\n",
              "    <tr>\n",
              "      <th id=\"T_46365_level0_row2\" class=\"row_heading level0 row2\" >2</th>\n",
              "      <td id=\"T_46365_row2_col0\" class=\"data row2 col0\" >0x000DE72E</td>\n",
              "      <td id=\"T_46365_row2_col1\" class=\"data row2 col1\" >0</td>\n",
              "      <td id=\"T_46365_row2_col2\" class=\"data row2 col2\" >2</td>\n",
              "      <td id=\"T_46365_row2_col3\" class=\"data row2 col3\" >MISS</td>\n",
              "    </tr>\n",
              "    <tr>\n",
              "      <th id=\"T_46365_level0_row3\" class=\"row_heading level0 row3\" >3</th>\n",
              "      <td id=\"T_46365_row3_col0\" class=\"data row3 col0\" >0x000A3CC4</td>\n",
              "      <td id=\"T_46365_row3_col1\" class=\"data row3 col1\" >0</td>\n",
              "      <td id=\"T_46365_row3_col2\" class=\"data row3 col2\" >3</td>\n",
              "      <td id=\"T_46365_row3_col3\" class=\"data row3 col3\" >MISS</td>\n",
              "    </tr>\n",
              "    <tr>\n",
              "      <th id=\"T_46365_level0_row4\" class=\"row_heading level0 row4\" >4</th>\n",
              "      <td id=\"T_46365_row4_col0\" class=\"data row4 col0\" >0x0001BE63</td>\n",
              "      <td id=\"T_46365_row4_col1\" class=\"data row4 col1\" >0</td>\n",
              "      <td id=\"T_46365_row4_col2\" class=\"data row4 col2\" >3</td>\n",
              "      <td id=\"T_46365_row4_col3\" class=\"data row4 col3\" >MISS</td>\n",
              "    </tr>\n",
              "    <tr>\n",
              "      <th id=\"T_46365_level0_row5\" class=\"row_heading level0 row5\" >5</th>\n",
              "      <td id=\"T_46365_row5_col0\" class=\"data row5 col0\" >0x0001BE63</td>\n",
              "      <td id=\"T_46365_row5_col1\" class=\"data row5 col1\" >0</td>\n",
              "      <td id=\"T_46365_row5_col2\" class=\"data row5 col2\" >3</td>\n",
              "      <td id=\"T_46365_row5_col3\" class=\"data row5 col3\" >HIT</td>\n",
              "    </tr>\n",
              "    <tr>\n",
              "      <th id=\"T_46365_level0_row6\" class=\"row_heading level0 row6\" >6</th>\n",
              "      <td id=\"T_46365_row6_col0\" class=\"data row6 col0\" >0x0005EA82</td>\n",
              "      <td id=\"T_46365_row6_col1\" class=\"data row6 col1\" >0</td>\n",
              "      <td id=\"T_46365_row6_col2\" class=\"data row6 col2\" >3</td>\n",
              "      <td id=\"T_46365_row6_col3\" class=\"data row6 col3\" >MISS</td>\n",
              "    </tr>\n",
              "  </tbody>\n",
              "</table>\n"
            ],
            "text/plain": [
              "<pandas.io.formats.style.Styler at 0x7f45caa4f340>"
            ]
          },
          "metadata": {},
          "output_type": "display_data"
        },
        {
          "name": "stdout",
          "output_type": "stream",
          "text": [
            "\n",
            "HITs: 1\n",
            "MISSes: 6\n",
            "\n",
            "=== Estado Final da Cache ===\n"
          ]
        },
        {
          "data": {
            "text/html": [
              "<style type=\"text/css\">\n",
              "#T_92f22_row0_col0, #T_92f22_row0_col1, #T_92f22_row1_col0, #T_92f22_row1_col1, #T_92f22_row2_col0, #T_92f22_row2_col1, #T_92f22_row3_col0, #T_92f22_row3_col1 {\n",
              "  text-align: center;\n",
              "}\n",
              "#T_92f22_row0_col2, #T_92f22_row1_col2, #T_92f22_row2_col2, #T_92f22_row3_col2 {\n",
              "  text-align: center;\n",
              "  text-align: center;\n",
              "}\n",
              "</style>\n",
              "<table id=\"T_92f22\" style=\"margin: auto\">\n",
              "  <thead>\n",
              "    <tr>\n",
              "      <th class=\"blank level0\" >&nbsp;</th>\n",
              "      <th id=\"T_92f22_level0_col0\" class=\"col_heading level0 col0\" >group</th>\n",
              "      <th id=\"T_92f22_level0_col1\" class=\"col_heading level0 col1\" >idx_line</th>\n",
              "      <th id=\"T_92f22_level0_col2\" class=\"col_heading level0 col2\" >addr</th>\n",
              "    </tr>\n",
              "  </thead>\n",
              "  <tbody>\n",
              "    <tr>\n",
              "      <th id=\"T_92f22_level0_row0\" class=\"row_heading level0 row0\" >0</th>\n",
              "      <td id=\"T_92f22_row0_col0\" class=\"data row0 col0\" >0</td>\n",
              "      <td id=\"T_92f22_row0_col1\" class=\"data row0 col1\" >0</td>\n",
              "      <td id=\"T_92f22_row0_col2\" class=\"data row0 col2\" >0x00032E21</td>\n",
              "    </tr>\n",
              "    <tr>\n",
              "      <th id=\"T_92f22_level0_row1\" class=\"row_heading level0 row1\" >1</th>\n",
              "      <td id=\"T_92f22_row1_col0\" class=\"data row1 col0\" >0</td>\n",
              "      <td id=\"T_92f22_row1_col1\" class=\"data row1 col1\" >1</td>\n",
              "      <td id=\"T_92f22_row1_col2\" class=\"data row1 col2\" >0x0001AF22</td>\n",
              "    </tr>\n",
              "    <tr>\n",
              "      <th id=\"T_92f22_level0_row2\" class=\"row_heading level0 row2\" >2</th>\n",
              "      <td id=\"T_92f22_row2_col0\" class=\"data row2 col0\" >0</td>\n",
              "      <td id=\"T_92f22_row2_col1\" class=\"data row2 col1\" >2</td>\n",
              "      <td id=\"T_92f22_row2_col2\" class=\"data row2 col2\" >0x000DE72E</td>\n",
              "    </tr>\n",
              "    <tr>\n",
              "      <th id=\"T_92f22_level0_row3\" class=\"row_heading level0 row3\" >3</th>\n",
              "      <td id=\"T_92f22_row3_col0\" class=\"data row3 col0\" >0</td>\n",
              "      <td id=\"T_92f22_row3_col1\" class=\"data row3 col1\" >3</td>\n",
              "      <td id=\"T_92f22_row3_col2\" class=\"data row3 col2\" >0x0005EA82</td>\n",
              "    </tr>\n",
              "  </tbody>\n",
              "</table>\n"
            ],
            "text/plain": [
              "<pandas.io.formats.style.Styler at 0x7f45bc558ac0>"
            ]
          },
          "metadata": {},
          "output_type": "display_data"
        },
        {
          "name": "stdout",
          "output_type": "stream",
          "text": [
            "\n",
            "=== Evolução da Cache (passo a passo) ===\n"
          ]
        },
        {
          "data": {
            "application/vnd.jupyter.widget-view+json": {
              "model_id": "eca2ed1353964055b3b11807da168e2d",
              "version_major": 2,
              "version_minor": 0
            },
            "text/plain": [
              "IntSlider(value=0, continuous_update=False, description='Passo:', max=7)"
            ]
          },
          "metadata": {},
          "output_type": "display_data"
        },
        {
          "data": {
            "application/vnd.jupyter.widget-view+json": {
              "model_id": "64e3b1113d3b430eadcb01fc5ba489d7",
              "version_major": 2,
              "version_minor": 0
            },
            "text/plain": [
              "Output()"
            ]
          },
          "metadata": {},
          "output_type": "display_data"
        }
      ],
      "source": [
        "# Parâmetros de entrada\n",
        "cache_size = 4096\n",
        "line_size = 1024\n",
        "associativity = 4\n",
        "\n",
        "entrada3 = [\n",
        "  '0x0CB886CA',\n",
        "  '0x06BC89BA',\n",
        "  '0x379CBAD1',\n",
        "  '0x28F3123B',\n",
        "  '0x06F98ED5',\n",
        "  '0x06F98ED8',\n",
        "  '0x17AA08A2'\n",
        "]\n",
        "\n",
        "history = simulador_cache(cache_size, line_size, associativity, entrada3)\n",
        "\n",
        "imprimir_resultados(history, cache_size, line_size, associativity)"
      ]
    },
    {
      "cell_type": "markdown",
      "metadata": {
        "id": "ETTJJpoDYEUf"
      },
      "source": [
        "### **EXEMPLO 4**"
      ]
    },
    {
      "cell_type": "code",
      "execution_count": 6,
      "metadata": {
        "colab": {
          "base_uri": "https://localhost:8080/",
          "height": 681,
          "referenced_widgets": [
            "ba769dbbd2f54a00a4fed9db99860ebd",
            "0dfcd950417140e98882d3afb134ff1a",
            "78c0d7184728493f8e186d82c6a5fc63",
            "b453527ca36a40beb8d200ae2831c368",
            "1d298bea16f24d35a1b42ac07c54cb6f"
          ]
        },
        "id": "h2-TNcvDYLL_",
        "outputId": "cbd2ceec-d050-4619-94d5-8a07b21b4d3a"
      },
      "outputs": [
        {
          "name": "stdout",
          "output_type": "stream",
          "text": [
            "\n",
            "=== Histórico de Acessos ===\n"
          ]
        },
        {
          "data": {
            "text/html": [
              "<style type=\"text/css\">\n",
              "#T_0d3ee_row0_col0, #T_0d3ee_row0_col1, #T_0d3ee_row0_col2, #T_0d3ee_row1_col0, #T_0d3ee_row1_col1, #T_0d3ee_row1_col2, #T_0d3ee_row2_col0, #T_0d3ee_row2_col1, #T_0d3ee_row2_col2, #T_0d3ee_row3_col0, #T_0d3ee_row3_col1, #T_0d3ee_row3_col2, #T_0d3ee_row4_col0, #T_0d3ee_row4_col1, #T_0d3ee_row4_col2, #T_0d3ee_row5_col0, #T_0d3ee_row5_col1, #T_0d3ee_row5_col2, #T_0d3ee_row6_col0, #T_0d3ee_row6_col1, #T_0d3ee_row6_col2, #T_0d3ee_row7_col0, #T_0d3ee_row7_col1, #T_0d3ee_row7_col2 {\n",
              "  text-align: center;\n",
              "}\n",
              "#T_0d3ee_row0_col3, #T_0d3ee_row1_col3, #T_0d3ee_row2_col3, #T_0d3ee_row3_col3, #T_0d3ee_row4_col3, #T_0d3ee_row6_col3, #T_0d3ee_row7_col3 {\n",
              "  background-color: lightcoral;\n",
              "  text-align: center;\n",
              "  text-align: center;\n",
              "}\n",
              "#T_0d3ee_row5_col3 {\n",
              "  background-color: lightgreen;\n",
              "  text-align: center;\n",
              "  text-align: center;\n",
              "}\n",
              "</style>\n",
              "<table id=\"T_0d3ee\" style=\"margin: auto\">\n",
              "  <thead>\n",
              "    <tr>\n",
              "      <th class=\"blank level0\" >&nbsp;</th>\n",
              "      <th id=\"T_0d3ee_level0_col0\" class=\"col_heading level0 col0\" >addr</th>\n",
              "      <th id=\"T_0d3ee_level0_col1\" class=\"col_heading level0 col1\" >group</th>\n",
              "      <th id=\"T_0d3ee_level0_col2\" class=\"col_heading level0 col2\" >idx_line</th>\n",
              "      <th id=\"T_0d3ee_level0_col3\" class=\"col_heading level0 col3\" >result</th>\n",
              "    </tr>\n",
              "  </thead>\n",
              "  <tbody>\n",
              "    <tr>\n",
              "      <th id=\"T_0d3ee_level0_row0\" class=\"row_heading level0 row0\" >0</th>\n",
              "      <td id=\"T_0d3ee_row0_col0\" class=\"data row0 col0\" >0x00032E21</td>\n",
              "      <td id=\"T_0d3ee_row0_col1\" class=\"data row0 col1\" >0</td>\n",
              "      <td id=\"T_0d3ee_row0_col2\" class=\"data row0 col2\" >0</td>\n",
              "      <td id=\"T_0d3ee_row0_col3\" class=\"data row0 col3\" >MISS</td>\n",
              "    </tr>\n",
              "    <tr>\n",
              "      <th id=\"T_0d3ee_level0_row1\" class=\"row_heading level0 row1\" >1</th>\n",
              "      <td id=\"T_0d3ee_row1_col0\" class=\"data row1 col0\" >0x0001AF22</td>\n",
              "      <td id=\"T_0d3ee_row1_col1\" class=\"data row1 col1\" >0</td>\n",
              "      <td id=\"T_0d3ee_row1_col2\" class=\"data row1 col2\" >1</td>\n",
              "      <td id=\"T_0d3ee_row1_col3\" class=\"data row1 col3\" >MISS</td>\n",
              "    </tr>\n",
              "    <tr>\n",
              "      <th id=\"T_0d3ee_level0_row2\" class=\"row_heading level0 row2\" >2</th>\n",
              "      <td id=\"T_0d3ee_row2_col0\" class=\"data row2 col0\" >0x000DE72E</td>\n",
              "      <td id=\"T_0d3ee_row2_col1\" class=\"data row2 col1\" >0</td>\n",
              "      <td id=\"T_0d3ee_row2_col2\" class=\"data row2 col2\" >2</td>\n",
              "      <td id=\"T_0d3ee_row2_col3\" class=\"data row2 col3\" >MISS</td>\n",
              "    </tr>\n",
              "    <tr>\n",
              "      <th id=\"T_0d3ee_level0_row3\" class=\"row_heading level0 row3\" >3</th>\n",
              "      <td id=\"T_0d3ee_row3_col0\" class=\"data row3 col0\" >0x000A3CC4</td>\n",
              "      <td id=\"T_0d3ee_row3_col1\" class=\"data row3 col1\" >0</td>\n",
              "      <td id=\"T_0d3ee_row3_col2\" class=\"data row3 col2\" >3</td>\n",
              "      <td id=\"T_0d3ee_row3_col3\" class=\"data row3 col3\" >MISS</td>\n",
              "    </tr>\n",
              "    <tr>\n",
              "      <th id=\"T_0d3ee_level0_row4\" class=\"row_heading level0 row4\" >4</th>\n",
              "      <td id=\"T_0d3ee_row4_col0\" class=\"data row4 col0\" >0x0001BE63</td>\n",
              "      <td id=\"T_0d3ee_row4_col1\" class=\"data row4 col1\" >0</td>\n",
              "      <td id=\"T_0d3ee_row4_col2\" class=\"data row4 col2\" >3</td>\n",
              "      <td id=\"T_0d3ee_row4_col3\" class=\"data row4 col3\" >MISS</td>\n",
              "    </tr>\n",
              "    <tr>\n",
              "      <th id=\"T_0d3ee_level0_row5\" class=\"row_heading level0 row5\" >5</th>\n",
              "      <td id=\"T_0d3ee_row5_col0\" class=\"data row5 col0\" >0x0001BE63</td>\n",
              "      <td id=\"T_0d3ee_row5_col1\" class=\"data row5 col1\" >0</td>\n",
              "      <td id=\"T_0d3ee_row5_col2\" class=\"data row5 col2\" >3</td>\n",
              "      <td id=\"T_0d3ee_row5_col3\" class=\"data row5 col3\" >HIT</td>\n",
              "    </tr>\n",
              "    <tr>\n",
              "      <th id=\"T_0d3ee_level0_row6\" class=\"row_heading level0 row6\" >6</th>\n",
              "      <td id=\"T_0d3ee_row6_col0\" class=\"data row6 col0\" >0x0005EA82</td>\n",
              "      <td id=\"T_0d3ee_row6_col1\" class=\"data row6 col1\" >0</td>\n",
              "      <td id=\"T_0d3ee_row6_col2\" class=\"data row6 col2\" >3</td>\n",
              "      <td id=\"T_0d3ee_row6_col3\" class=\"data row6 col3\" >MISS</td>\n",
              "    </tr>\n",
              "    <tr>\n",
              "      <th id=\"T_0d3ee_level0_row7\" class=\"row_heading level0 row7\" >7</th>\n",
              "      <td id=\"T_0d3ee_row7_col0\" class=\"data row7 col0\" >0x0001AF22</td>\n",
              "      <td id=\"T_0d3ee_row7_col1\" class=\"data row7 col1\" >0</td>\n",
              "      <td id=\"T_0d3ee_row7_col2\" class=\"data row7 col2\" >3</td>\n",
              "      <td id=\"T_0d3ee_row7_col3\" class=\"data row7 col3\" >MISS</td>\n",
              "    </tr>\n",
              "  </tbody>\n",
              "</table>\n"
            ],
            "text/plain": [
              "<pandas.io.formats.style.Styler at 0x7f45caa4f7c0>"
            ]
          },
          "metadata": {},
          "output_type": "display_data"
        },
        {
          "name": "stdout",
          "output_type": "stream",
          "text": [
            "\n",
            "HITs: 1\n",
            "MISSes: 7\n",
            "\n",
            "=== Estado Final da Cache ===\n"
          ]
        },
        {
          "data": {
            "text/html": [
              "<style type=\"text/css\">\n",
              "#T_8e7b6_row0_col0, #T_8e7b6_row0_col1, #T_8e7b6_row1_col0, #T_8e7b6_row1_col1, #T_8e7b6_row2_col0, #T_8e7b6_row2_col1, #T_8e7b6_row3_col0, #T_8e7b6_row3_col1 {\n",
              "  text-align: center;\n",
              "}\n",
              "#T_8e7b6_row0_col2, #T_8e7b6_row1_col2, #T_8e7b6_row2_col2, #T_8e7b6_row3_col2 {\n",
              "  text-align: center;\n",
              "  text-align: center;\n",
              "}\n",
              "</style>\n",
              "<table id=\"T_8e7b6\" style=\"margin: auto\">\n",
              "  <thead>\n",
              "    <tr>\n",
              "      <th class=\"blank level0\" >&nbsp;</th>\n",
              "      <th id=\"T_8e7b6_level0_col0\" class=\"col_heading level0 col0\" >group</th>\n",
              "      <th id=\"T_8e7b6_level0_col1\" class=\"col_heading level0 col1\" >idx_line</th>\n",
              "      <th id=\"T_8e7b6_level0_col2\" class=\"col_heading level0 col2\" >addr</th>\n",
              "    </tr>\n",
              "  </thead>\n",
              "  <tbody>\n",
              "    <tr>\n",
              "      <th id=\"T_8e7b6_level0_row0\" class=\"row_heading level0 row0\" >0</th>\n",
              "      <td id=\"T_8e7b6_row0_col0\" class=\"data row0 col0\" >0</td>\n",
              "      <td id=\"T_8e7b6_row0_col1\" class=\"data row0 col1\" >0</td>\n",
              "      <td id=\"T_8e7b6_row0_col2\" class=\"data row0 col2\" >0x00032E21</td>\n",
              "    </tr>\n",
              "    <tr>\n",
              "      <th id=\"T_8e7b6_level0_row1\" class=\"row_heading level0 row1\" >1</th>\n",
              "      <td id=\"T_8e7b6_row1_col0\" class=\"data row1 col0\" >0</td>\n",
              "      <td id=\"T_8e7b6_row1_col1\" class=\"data row1 col1\" >1</td>\n",
              "      <td id=\"T_8e7b6_row1_col2\" class=\"data row1 col2\" >0x0001AF22</td>\n",
              "    </tr>\n",
              "    <tr>\n",
              "      <th id=\"T_8e7b6_level0_row2\" class=\"row_heading level0 row2\" >2</th>\n",
              "      <td id=\"T_8e7b6_row2_col0\" class=\"data row2 col0\" >0</td>\n",
              "      <td id=\"T_8e7b6_row2_col1\" class=\"data row2 col1\" >2</td>\n",
              "      <td id=\"T_8e7b6_row2_col2\" class=\"data row2 col2\" >0x000DE72E</td>\n",
              "    </tr>\n",
              "    <tr>\n",
              "      <th id=\"T_8e7b6_level0_row3\" class=\"row_heading level0 row3\" >3</th>\n",
              "      <td id=\"T_8e7b6_row3_col0\" class=\"data row3 col0\" >0</td>\n",
              "      <td id=\"T_8e7b6_row3_col1\" class=\"data row3 col1\" >3</td>\n",
              "      <td id=\"T_8e7b6_row3_col2\" class=\"data row3 col2\" >0x0001AF22</td>\n",
              "    </tr>\n",
              "  </tbody>\n",
              "</table>\n"
            ],
            "text/plain": [
              "<pandas.io.formats.style.Styler at 0x7f45bc5583d0>"
            ]
          },
          "metadata": {},
          "output_type": "display_data"
        },
        {
          "name": "stdout",
          "output_type": "stream",
          "text": [
            "\n",
            "=== Evolução da Cache (passo a passo) ===\n"
          ]
        },
        {
          "data": {
            "application/vnd.jupyter.widget-view+json": {
              "model_id": "f793267d94aa438d96f39f465ab21188",
              "version_major": 2,
              "version_minor": 0
            },
            "text/plain": [
              "IntSlider(value=0, continuous_update=False, description='Passo:', max=8)"
            ]
          },
          "metadata": {},
          "output_type": "display_data"
        },
        {
          "data": {
            "application/vnd.jupyter.widget-view+json": {
              "model_id": "ada4136daecd4720bd3d76c651c90d69",
              "version_major": 2,
              "version_minor": 0
            },
            "text/plain": [
              "Output()"
            ]
          },
          "metadata": {},
          "output_type": "display_data"
        }
      ],
      "source": [
        "# Parâmetros de entrada\n",
        "cache_size = 4096\n",
        "line_size = 1024\n",
        "associativity = 4\n",
        "\n",
        "entrada4 = [\n",
        "  '0x0CB886CA',\n",
        "  '0x06BC89BA',\n",
        "  '0x379CBAD1',\n",
        "  '0x28F3123B',\n",
        "  '0x06F98ED5',\n",
        "  '0x06F98ED8',\n",
        "  '0x17AA08A2',\n",
        "  '0x06BC89BA'\n",
        "]\n",
        "\n",
        "history = simulador_cache(cache_size, line_size, associativity, entrada4)\n",
        "\n",
        "imprimir_resultados(history, cache_size, line_size, associativity)"
      ]
    },
    {
      "cell_type": "markdown",
      "metadata": {
        "id": "b5PbrlTCYGmF"
      },
      "source": [
        "### **EXEMPLO 5**"
      ]
    },
    {
      "cell_type": "code",
      "execution_count": 7,
      "metadata": {
        "colab": {
          "base_uri": "https://localhost:8080/",
          "height": 650,
          "referenced_widgets": [
            "a14c514efc274ad39c9e2ee888f80c59",
            "d8397493f01940099f2e7576bbb1c2d9",
            "d539e637bed44efb94b9f0a38a584118",
            "a736ac4fadfd402aa9fe3be875bfed32",
            "ed114807c7234d36a258fa717fb05292"
          ]
        },
        "id": "3GumYUjfYZ_G",
        "outputId": "99ef6001-d317-4489-82cf-3df9e7e5b848"
      },
      "outputs": [
        {
          "name": "stdout",
          "output_type": "stream",
          "text": [
            "\n",
            "=== Histórico de Acessos ===\n"
          ]
        },
        {
          "data": {
            "text/html": [
              "<style type=\"text/css\">\n",
              "#T_b50f1_row0_col0, #T_b50f1_row0_col1, #T_b50f1_row0_col2, #T_b50f1_row1_col0, #T_b50f1_row1_col1, #T_b50f1_row1_col2 {\n",
              "  text-align: center;\n",
              "}\n",
              "#T_b50f1_row0_col3, #T_b50f1_row1_col3 {\n",
              "  background-color: lightcoral;\n",
              "  text-align: center;\n",
              "  text-align: center;\n",
              "}\n",
              "</style>\n",
              "<table id=\"T_b50f1\" style=\"margin: auto\">\n",
              "  <thead>\n",
              "    <tr>\n",
              "      <th class=\"blank level0\" >&nbsp;</th>\n",
              "      <th id=\"T_b50f1_level0_col0\" class=\"col_heading level0 col0\" >addr</th>\n",
              "      <th id=\"T_b50f1_level0_col1\" class=\"col_heading level0 col1\" >group</th>\n",
              "      <th id=\"T_b50f1_level0_col2\" class=\"col_heading level0 col2\" >idx_line</th>\n",
              "      <th id=\"T_b50f1_level0_col3\" class=\"col_heading level0 col3\" >result</th>\n",
              "    </tr>\n",
              "  </thead>\n",
              "  <tbody>\n",
              "    <tr>\n",
              "      <th id=\"T_b50f1_level0_row0\" class=\"row_heading level0 row0\" >0</th>\n",
              "      <td id=\"T_b50f1_row0_col0\" class=\"data row0 col0\" >0x00019710</td>\n",
              "      <td id=\"T_b50f1_row0_col1\" class=\"data row0 col1\" >1</td>\n",
              "      <td id=\"T_b50f1_row0_col2\" class=\"data row0 col2\" >0</td>\n",
              "      <td id=\"T_b50f1_row0_col3\" class=\"data row0 col3\" >MISS</td>\n",
              "    </tr>\n",
              "    <tr>\n",
              "      <th id=\"T_b50f1_level0_row1\" class=\"row_heading level0 row1\" >1</th>\n",
              "      <td id=\"T_b50f1_row1_col0\" class=\"data row1 col0\" >0x0000D791</td>\n",
              "      <td id=\"T_b50f1_row1_col1\" class=\"data row1 col1\" >0</td>\n",
              "      <td id=\"T_b50f1_row1_col2\" class=\"data row1 col2\" >0</td>\n",
              "      <td id=\"T_b50f1_row1_col3\" class=\"data row1 col3\" >MISS</td>\n",
              "    </tr>\n",
              "  </tbody>\n",
              "</table>\n"
            ],
            "text/plain": [
              "<pandas.io.formats.style.Styler at 0x7f45bc558700>"
            ]
          },
          "metadata": {},
          "output_type": "display_data"
        },
        {
          "name": "stdout",
          "output_type": "stream",
          "text": [
            "\n",
            "HITs: 0\n",
            "MISSes: 2\n",
            "\n",
            "=== Estado Final da Cache ===\n"
          ]
        },
        {
          "data": {
            "text/html": [
              "<style type=\"text/css\">\n",
              "#T_567cf_row0_col0, #T_567cf_row0_col1, #T_567cf_row1_col0, #T_567cf_row1_col1, #T_567cf_row2_col0, #T_567cf_row2_col1, #T_567cf_row3_col0, #T_567cf_row3_col1 {\n",
              "  text-align: center;\n",
              "}\n",
              "#T_567cf_row0_col2, #T_567cf_row2_col2 {\n",
              "  text-align: center;\n",
              "  text-align: center;\n",
              "}\n",
              "#T_567cf_row1_col2, #T_567cf_row3_col2 {\n",
              "  background-color: lightgray;\n",
              "  text-align: center;\n",
              "  text-align: center;\n",
              "}\n",
              "</style>\n",
              "<table id=\"T_567cf\" style=\"margin: auto\">\n",
              "  <thead>\n",
              "    <tr>\n",
              "      <th class=\"blank level0\" >&nbsp;</th>\n",
              "      <th id=\"T_567cf_level0_col0\" class=\"col_heading level0 col0\" >group</th>\n",
              "      <th id=\"T_567cf_level0_col1\" class=\"col_heading level0 col1\" >idx_line</th>\n",
              "      <th id=\"T_567cf_level0_col2\" class=\"col_heading level0 col2\" >addr</th>\n",
              "    </tr>\n",
              "  </thead>\n",
              "  <tbody>\n",
              "    <tr>\n",
              "      <th id=\"T_567cf_level0_row0\" class=\"row_heading level0 row0\" >0</th>\n",
              "      <td id=\"T_567cf_row0_col0\" class=\"data row0 col0\" >0</td>\n",
              "      <td id=\"T_567cf_row0_col1\" class=\"data row0 col1\" >0</td>\n",
              "      <td id=\"T_567cf_row0_col2\" class=\"data row0 col2\" >0x0000D791</td>\n",
              "    </tr>\n",
              "    <tr>\n",
              "      <th id=\"T_567cf_level0_row1\" class=\"row_heading level0 row1\" >1</th>\n",
              "      <td id=\"T_567cf_row1_col0\" class=\"data row1 col0\" >0</td>\n",
              "      <td id=\"T_567cf_row1_col1\" class=\"data row1 col1\" >1</td>\n",
              "      <td id=\"T_567cf_row1_col2\" class=\"data row1 col2\" >-</td>\n",
              "    </tr>\n",
              "    <tr>\n",
              "      <th id=\"T_567cf_level0_row2\" class=\"row_heading level0 row2\" >2</th>\n",
              "      <td id=\"T_567cf_row2_col0\" class=\"data row2 col0\" >1</td>\n",
              "      <td id=\"T_567cf_row2_col1\" class=\"data row2 col1\" >0</td>\n",
              "      <td id=\"T_567cf_row2_col2\" class=\"data row2 col2\" >0x00019710</td>\n",
              "    </tr>\n",
              "    <tr>\n",
              "      <th id=\"T_567cf_level0_row3\" class=\"row_heading level0 row3\" >3</th>\n",
              "      <td id=\"T_567cf_row3_col0\" class=\"data row3 col0\" >1</td>\n",
              "      <td id=\"T_567cf_row3_col1\" class=\"data row3 col1\" >1</td>\n",
              "      <td id=\"T_567cf_row3_col2\" class=\"data row3 col2\" >-</td>\n",
              "    </tr>\n",
              "  </tbody>\n",
              "</table>\n"
            ],
            "text/plain": [
              "<pandas.io.formats.style.Styler at 0x7f45bc5bce20>"
            ]
          },
          "metadata": {},
          "output_type": "display_data"
        },
        {
          "name": "stdout",
          "output_type": "stream",
          "text": [
            "\n",
            "=== Evolução da Cache (passo a passo) ===\n"
          ]
        },
        {
          "data": {
            "application/vnd.jupyter.widget-view+json": {
              "model_id": "7d4cf1f5aa6d40138030c8fa80ed50a8",
              "version_major": 2,
              "version_minor": 0
            },
            "text/plain": [
              "IntSlider(value=0, continuous_update=False, description='Passo:', max=2)"
            ]
          },
          "metadata": {},
          "output_type": "display_data"
        },
        {
          "data": {
            "application/vnd.jupyter.widget-view+json": {
              "model_id": "d7c0b44c56d34a62b718096e53ca918c",
              "version_major": 2,
              "version_minor": 0
            },
            "text/plain": [
              "Output()"
            ]
          },
          "metadata": {},
          "output_type": "display_data"
        }
      ],
      "source": [
        "# Parâmetros de entrada\n",
        "cache_size = 4096\n",
        "line_size = 1024\n",
        "associativity = 2\n",
        "\n",
        "entrada5 = [\n",
        "  '0x0CB886CA',\n",
        "  '0x06BC89BA'\n",
        "]\n",
        "\n",
        "history = simulador_cache(cache_size, line_size, associativity, entrada5)\n",
        "\n",
        "imprimir_resultados(history, cache_size, line_size, associativity)"
      ]
    },
    {
      "cell_type": "markdown",
      "metadata": {
        "id": "-T4MvH42YGue"
      },
      "source": [
        "### **EXEMPLO 6**"
      ]
    },
    {
      "cell_type": "code",
      "execution_count": 8,
      "metadata": {
        "colab": {
          "base_uri": "https://localhost:8080/",
          "height": 649,
          "referenced_widgets": [
            "ad17e5a31c44497491d87da7e4ecce57",
            "7e9af52523df44dfa7cbb2e1ea90f6d5",
            "46dc1942ebcc485e8610cbec98a94706",
            "eeca9c3a54f045e7af4ba03beaf0dfe8",
            "137b090c46f04d86845e30cdb5773148"
          ]
        },
        "id": "Fg8ysUqqYnDu",
        "outputId": "2bd0786b-754b-4c36-c50e-4390fbdf7981"
      },
      "outputs": [
        {
          "name": "stdout",
          "output_type": "stream",
          "text": [
            "\n",
            "=== Histórico de Acessos ===\n"
          ]
        },
        {
          "data": {
            "text/html": [
              "<style type=\"text/css\">\n",
              "#T_6ba40_row0_col0, #T_6ba40_row0_col1, #T_6ba40_row0_col2, #T_6ba40_row1_col0, #T_6ba40_row1_col1, #T_6ba40_row1_col2, #T_6ba40_row2_col0, #T_6ba40_row2_col1, #T_6ba40_row2_col2, #T_6ba40_row3_col0, #T_6ba40_row3_col1, #T_6ba40_row3_col2, #T_6ba40_row4_col0, #T_6ba40_row4_col1, #T_6ba40_row4_col2, #T_6ba40_row5_col0, #T_6ba40_row5_col1, #T_6ba40_row5_col2, #T_6ba40_row6_col0, #T_6ba40_row6_col1, #T_6ba40_row6_col2 {\n",
              "  text-align: center;\n",
              "}\n",
              "#T_6ba40_row0_col3, #T_6ba40_row1_col3, #T_6ba40_row2_col3, #T_6ba40_row3_col3, #T_6ba40_row4_col3, #T_6ba40_row6_col3 {\n",
              "  background-color: lightcoral;\n",
              "  text-align: center;\n",
              "  text-align: center;\n",
              "}\n",
              "#T_6ba40_row5_col3 {\n",
              "  background-color: lightgreen;\n",
              "  text-align: center;\n",
              "  text-align: center;\n",
              "}\n",
              "</style>\n",
              "<table id=\"T_6ba40\" style=\"margin: auto\">\n",
              "  <thead>\n",
              "    <tr>\n",
              "      <th class=\"blank level0\" >&nbsp;</th>\n",
              "      <th id=\"T_6ba40_level0_col0\" class=\"col_heading level0 col0\" >addr</th>\n",
              "      <th id=\"T_6ba40_level0_col1\" class=\"col_heading level0 col1\" >group</th>\n",
              "      <th id=\"T_6ba40_level0_col2\" class=\"col_heading level0 col2\" >idx_line</th>\n",
              "      <th id=\"T_6ba40_level0_col3\" class=\"col_heading level0 col3\" >result</th>\n",
              "    </tr>\n",
              "  </thead>\n",
              "  <tbody>\n",
              "    <tr>\n",
              "      <th id=\"T_6ba40_level0_row0\" class=\"row_heading level0 row0\" >0</th>\n",
              "      <td id=\"T_6ba40_row0_col0\" class=\"data row0 col0\" >0x0000CB88</td>\n",
              "      <td id=\"T_6ba40_row0_col1\" class=\"data row0 col1\" >1</td>\n",
              "      <td id=\"T_6ba40_row0_col2\" class=\"data row0 col2\" >0</td>\n",
              "      <td id=\"T_6ba40_row0_col3\" class=\"data row0 col3\" >MISS</td>\n",
              "    </tr>\n",
              "    <tr>\n",
              "      <th id=\"T_6ba40_level0_row1\" class=\"row_heading level0 row1\" >1</th>\n",
              "      <td id=\"T_6ba40_row1_col0\" class=\"data row1 col0\" >0x00006BC8</td>\n",
              "      <td id=\"T_6ba40_row1_col1\" class=\"data row1 col1\" >2</td>\n",
              "      <td id=\"T_6ba40_row1_col2\" class=\"data row1 col2\" >0</td>\n",
              "      <td id=\"T_6ba40_row1_col3\" class=\"data row1 col3\" >MISS</td>\n",
              "    </tr>\n",
              "    <tr>\n",
              "      <th id=\"T_6ba40_level0_row2\" class=\"row_heading level0 row2\" >2</th>\n",
              "      <td id=\"T_6ba40_row2_col0\" class=\"data row2 col0\" >0x000379CB</td>\n",
              "      <td id=\"T_6ba40_row2_col1\" class=\"data row2 col1\" >2</td>\n",
              "      <td id=\"T_6ba40_row2_col2\" class=\"data row2 col2\" >0</td>\n",
              "      <td id=\"T_6ba40_row2_col3\" class=\"data row2 col3\" >MISS</td>\n",
              "    </tr>\n",
              "    <tr>\n",
              "      <th id=\"T_6ba40_level0_row3\" class=\"row_heading level0 row3\" >3</th>\n",
              "      <td id=\"T_6ba40_row3_col0\" class=\"data row3 col0\" >0x00028F31</td>\n",
              "      <td id=\"T_6ba40_row3_col1\" class=\"data row3 col1\" >0</td>\n",
              "      <td id=\"T_6ba40_row3_col2\" class=\"data row3 col2\" >0</td>\n",
              "      <td id=\"T_6ba40_row3_col3\" class=\"data row3 col3\" >MISS</td>\n",
              "    </tr>\n",
              "    <tr>\n",
              "      <th id=\"T_6ba40_level0_row4\" class=\"row_heading level0 row4\" >4</th>\n",
              "      <td id=\"T_6ba40_row4_col0\" class=\"data row4 col0\" >0x00006F98</td>\n",
              "      <td id=\"T_6ba40_row4_col1\" class=\"data row4 col1\" >3</td>\n",
              "      <td id=\"T_6ba40_row4_col2\" class=\"data row4 col2\" >0</td>\n",
              "      <td id=\"T_6ba40_row4_col3\" class=\"data row4 col3\" >MISS</td>\n",
              "    </tr>\n",
              "    <tr>\n",
              "      <th id=\"T_6ba40_level0_row5\" class=\"row_heading level0 row5\" >5</th>\n",
              "      <td id=\"T_6ba40_row5_col0\" class=\"data row5 col0\" >0x00006F98</td>\n",
              "      <td id=\"T_6ba40_row5_col1\" class=\"data row5 col1\" >3</td>\n",
              "      <td id=\"T_6ba40_row5_col2\" class=\"data row5 col2\" >0</td>\n",
              "      <td id=\"T_6ba40_row5_col3\" class=\"data row5 col3\" >HIT</td>\n",
              "    </tr>\n",
              "    <tr>\n",
              "      <th id=\"T_6ba40_level0_row6\" class=\"row_heading level0 row6\" >6</th>\n",
              "      <td id=\"T_6ba40_row6_col0\" class=\"data row6 col0\" >0x00017AA0</td>\n",
              "      <td id=\"T_6ba40_row6_col1\" class=\"data row6 col1\" >2</td>\n",
              "      <td id=\"T_6ba40_row6_col2\" class=\"data row6 col2\" >0</td>\n",
              "      <td id=\"T_6ba40_row6_col3\" class=\"data row6 col3\" >MISS</td>\n",
              "    </tr>\n",
              "  </tbody>\n",
              "</table>\n"
            ],
            "text/plain": [
              "<pandas.io.formats.style.Styler at 0x7f45bc558700>"
            ]
          },
          "metadata": {},
          "output_type": "display_data"
        },
        {
          "name": "stdout",
          "output_type": "stream",
          "text": [
            "\n",
            "HITs: 1\n",
            "MISSes: 6\n",
            "\n",
            "=== Estado Final da Cache ===\n"
          ]
        },
        {
          "data": {
            "text/html": [
              "<style type=\"text/css\">\n",
              "#T_e346a_row0_col0, #T_e346a_row0_col1, #T_e346a_row1_col0, #T_e346a_row1_col1, #T_e346a_row2_col0, #T_e346a_row2_col1, #T_e346a_row3_col0, #T_e346a_row3_col1 {\n",
              "  text-align: center;\n",
              "}\n",
              "#T_e346a_row0_col2, #T_e346a_row1_col2, #T_e346a_row2_col2, #T_e346a_row3_col2 {\n",
              "  text-align: center;\n",
              "  text-align: center;\n",
              "}\n",
              "</style>\n",
              "<table id=\"T_e346a\" style=\"margin: auto\">\n",
              "  <thead>\n",
              "    <tr>\n",
              "      <th class=\"blank level0\" >&nbsp;</th>\n",
              "      <th id=\"T_e346a_level0_col0\" class=\"col_heading level0 col0\" >group</th>\n",
              "      <th id=\"T_e346a_level0_col1\" class=\"col_heading level0 col1\" >idx_line</th>\n",
              "      <th id=\"T_e346a_level0_col2\" class=\"col_heading level0 col2\" >addr</th>\n",
              "    </tr>\n",
              "  </thead>\n",
              "  <tbody>\n",
              "    <tr>\n",
              "      <th id=\"T_e346a_level0_row0\" class=\"row_heading level0 row0\" >0</th>\n",
              "      <td id=\"T_e346a_row0_col0\" class=\"data row0 col0\" >0</td>\n",
              "      <td id=\"T_e346a_row0_col1\" class=\"data row0 col1\" >0</td>\n",
              "      <td id=\"T_e346a_row0_col2\" class=\"data row0 col2\" >0x00028F31</td>\n",
              "    </tr>\n",
              "    <tr>\n",
              "      <th id=\"T_e346a_level0_row1\" class=\"row_heading level0 row1\" >1</th>\n",
              "      <td id=\"T_e346a_row1_col0\" class=\"data row1 col0\" >1</td>\n",
              "      <td id=\"T_e346a_row1_col1\" class=\"data row1 col1\" >0</td>\n",
              "      <td id=\"T_e346a_row1_col2\" class=\"data row1 col2\" >0x0000CB88</td>\n",
              "    </tr>\n",
              "    <tr>\n",
              "      <th id=\"T_e346a_level0_row2\" class=\"row_heading level0 row2\" >2</th>\n",
              "      <td id=\"T_e346a_row2_col0\" class=\"data row2 col0\" >2</td>\n",
              "      <td id=\"T_e346a_row2_col1\" class=\"data row2 col1\" >0</td>\n",
              "      <td id=\"T_e346a_row2_col2\" class=\"data row2 col2\" >0x00017AA0</td>\n",
              "    </tr>\n",
              "    <tr>\n",
              "      <th id=\"T_e346a_level0_row3\" class=\"row_heading level0 row3\" >3</th>\n",
              "      <td id=\"T_e346a_row3_col0\" class=\"data row3 col0\" >3</td>\n",
              "      <td id=\"T_e346a_row3_col1\" class=\"data row3 col1\" >0</td>\n",
              "      <td id=\"T_e346a_row3_col2\" class=\"data row3 col2\" >0x00006F98</td>\n",
              "    </tr>\n",
              "  </tbody>\n",
              "</table>\n"
            ],
            "text/plain": [
              "<pandas.io.formats.style.Styler at 0x7f45bc5589a0>"
            ]
          },
          "metadata": {},
          "output_type": "display_data"
        },
        {
          "name": "stdout",
          "output_type": "stream",
          "text": [
            "\n",
            "=== Evolução da Cache (passo a passo) ===\n"
          ]
        },
        {
          "data": {
            "application/vnd.jupyter.widget-view+json": {
              "model_id": "a1280010f8b64a28afd1e4de0850c986",
              "version_major": 2,
              "version_minor": 0
            },
            "text/plain": [
              "IntSlider(value=0, continuous_update=False, description='Passo:', max=7)"
            ]
          },
          "metadata": {},
          "output_type": "display_data"
        },
        {
          "data": {
            "application/vnd.jupyter.widget-view+json": {
              "model_id": "f49bcfcc37b54f1ea923ee6d3f107c77",
              "version_major": 2,
              "version_minor": 0
            },
            "text/plain": [
              "Output()"
            ]
          },
          "metadata": {},
          "output_type": "display_data"
        }
      ],
      "source": [
        "# Parâmetros de entrada\n",
        "cache_size = 4096\n",
        "line_size = 1024\n",
        "associativity = 1\n",
        "\n",
        "entrada6 = [\n",
        "  '0x0CB886CA',\n",
        "  '0x06BC89BA',\n",
        "  '0x379CBAD1',\n",
        "  '0x28F3123B',\n",
        "  '0x06F98ED5',\n",
        "  '0x06F98ED8',\n",
        "  '0x17AA08A2',\n",
        "]\n",
        "\n",
        "history = simulador_cache(cache_size, line_size, associativity, entrada6)\n",
        "\n",
        "imprimir_resultados(history, cache_size, line_size, associativity)"
      ]
    }
  ],
  "metadata": {
    "colab": {
      "collapsed_sections": [
        "VZaTBeL2pMEx"
      ],
      "include_colab_link": true,
      "provenance": []
    },
    "kernelspec": {
      "display_name": ".venv",
      "language": "python",
      "name": "python3"
    },
    "language_info": {
      "codemirror_mode": {
        "name": "ipython",
        "version": 3
      },
      "file_extension": ".py",
      "mimetype": "text/x-python",
      "name": "python",
      "nbconvert_exporter": "python",
      "pygments_lexer": "ipython3",
      "version": "3.9.2"
    },
    "widgets": {
      "application/vnd.jupyter.widget-state+json": {
        "0dfcd950417140e98882d3afb134ff1a": {
          "model_module": "@jupyter-widgets/base",
          "model_module_version": "1.2.0",
          "model_name": "LayoutModel",
          "state": {
            "_model_module": "@jupyter-widgets/base",
            "_model_module_version": "1.2.0",
            "_model_name": "LayoutModel",
            "_view_count": null,
            "_view_module": "@jupyter-widgets/base",
            "_view_module_version": "1.2.0",
            "_view_name": "LayoutView",
            "align_content": null,
            "align_items": null,
            "align_self": null,
            "border": null,
            "bottom": null,
            "display": null,
            "flex": null,
            "flex_flow": null,
            "grid_area": null,
            "grid_auto_columns": null,
            "grid_auto_flow": null,
            "grid_auto_rows": null,
            "grid_column": null,
            "grid_gap": null,
            "grid_row": null,
            "grid_template_areas": null,
            "grid_template_columns": null,
            "grid_template_rows": null,
            "height": null,
            "justify_content": null,
            "justify_items": null,
            "left": null,
            "margin": null,
            "max_height": null,
            "max_width": null,
            "min_height": null,
            "min_width": null,
            "object_fit": null,
            "object_position": null,
            "order": null,
            "overflow": null,
            "overflow_x": null,
            "overflow_y": null,
            "padding": null,
            "right": null,
            "top": null,
            "visibility": null,
            "width": null
          }
        },
        "1206bb4afec3449c902407bcf9cb5b3d": {
          "model_module": "@jupyter-widgets/base",
          "model_module_version": "1.2.0",
          "model_name": "LayoutModel",
          "state": {
            "_model_module": "@jupyter-widgets/base",
            "_model_module_version": "1.2.0",
            "_model_name": "LayoutModel",
            "_view_count": null,
            "_view_module": "@jupyter-widgets/base",
            "_view_module_version": "1.2.0",
            "_view_name": "LayoutView",
            "align_content": null,
            "align_items": null,
            "align_self": null,
            "border": null,
            "bottom": null,
            "display": null,
            "flex": null,
            "flex_flow": null,
            "grid_area": null,
            "grid_auto_columns": null,
            "grid_auto_flow": null,
            "grid_auto_rows": null,
            "grid_column": null,
            "grid_gap": null,
            "grid_row": null,
            "grid_template_areas": null,
            "grid_template_columns": null,
            "grid_template_rows": null,
            "height": null,
            "justify_content": null,
            "justify_items": null,
            "left": null,
            "margin": null,
            "max_height": null,
            "max_width": null,
            "min_height": null,
            "min_width": null,
            "object_fit": null,
            "object_position": null,
            "order": null,
            "overflow": null,
            "overflow_x": null,
            "overflow_y": null,
            "padding": null,
            "right": null,
            "top": null,
            "visibility": null,
            "width": null
          }
        },
        "137b090c46f04d86845e30cdb5773148": {
          "model_module": "@jupyter-widgets/base",
          "model_module_version": "1.2.0",
          "model_name": "LayoutModel",
          "state": {
            "_model_module": "@jupyter-widgets/base",
            "_model_module_version": "1.2.0",
            "_model_name": "LayoutModel",
            "_view_count": null,
            "_view_module": "@jupyter-widgets/base",
            "_view_module_version": "1.2.0",
            "_view_name": "LayoutView",
            "align_content": null,
            "align_items": null,
            "align_self": null,
            "border": null,
            "bottom": null,
            "display": null,
            "flex": null,
            "flex_flow": null,
            "grid_area": null,
            "grid_auto_columns": null,
            "grid_auto_flow": null,
            "grid_auto_rows": null,
            "grid_column": null,
            "grid_gap": null,
            "grid_row": null,
            "grid_template_areas": null,
            "grid_template_columns": null,
            "grid_template_rows": null,
            "height": null,
            "justify_content": null,
            "justify_items": null,
            "left": null,
            "margin": null,
            "max_height": null,
            "max_width": null,
            "min_height": null,
            "min_width": null,
            "object_fit": null,
            "object_position": null,
            "order": null,
            "overflow": null,
            "overflow_x": null,
            "overflow_y": null,
            "padding": null,
            "right": null,
            "top": null,
            "visibility": null,
            "width": null
          }
        },
        "162a417047a640b293502a26d025512d": {
          "model_module": "@jupyter-widgets/controls",
          "model_module_version": "1.5.0",
          "model_name": "IntSliderModel",
          "state": {
            "_dom_classes": [],
            "_model_module": "@jupyter-widgets/controls",
            "_model_module_version": "1.5.0",
            "_model_name": "IntSliderModel",
            "_view_count": null,
            "_view_module": "@jupyter-widgets/controls",
            "_view_module_version": "1.5.0",
            "_view_name": "IntSliderView",
            "continuous_update": false,
            "description": "Passo:",
            "description_tooltip": null,
            "disabled": false,
            "layout": "IPY_MODEL_c20fbb41563b42c9bafaed9b4d766164",
            "max": 7,
            "min": 0,
            "orientation": "horizontal",
            "readout": true,
            "readout_format": "d",
            "step": 1,
            "style": "IPY_MODEL_4bc98279b4244863b049465f4dc3ded9",
            "value": 0
          }
        },
        "1d298bea16f24d35a1b42ac07c54cb6f": {
          "model_module": "@jupyter-widgets/base",
          "model_module_version": "1.2.0",
          "model_name": "LayoutModel",
          "state": {
            "_model_module": "@jupyter-widgets/base",
            "_model_module_version": "1.2.0",
            "_model_name": "LayoutModel",
            "_view_count": null,
            "_view_module": "@jupyter-widgets/base",
            "_view_module_version": "1.2.0",
            "_view_name": "LayoutView",
            "align_content": null,
            "align_items": null,
            "align_self": null,
            "border": null,
            "bottom": null,
            "display": null,
            "flex": null,
            "flex_flow": null,
            "grid_area": null,
            "grid_auto_columns": null,
            "grid_auto_flow": null,
            "grid_auto_rows": null,
            "grid_column": null,
            "grid_gap": null,
            "grid_row": null,
            "grid_template_areas": null,
            "grid_template_columns": null,
            "grid_template_rows": null,
            "height": null,
            "justify_content": null,
            "justify_items": null,
            "left": null,
            "margin": null,
            "max_height": null,
            "max_width": null,
            "min_height": null,
            "min_width": null,
            "object_fit": null,
            "object_position": null,
            "order": null,
            "overflow": null,
            "overflow_x": null,
            "overflow_y": null,
            "padding": null,
            "right": null,
            "top": null,
            "visibility": null,
            "width": null
          }
        },
        "40e5e3e5c6dc4b7b8eb6f5bbc22fabc1": {
          "model_module": "@jupyter-widgets/controls",
          "model_module_version": "1.5.0",
          "model_name": "SliderStyleModel",
          "state": {
            "_model_module": "@jupyter-widgets/controls",
            "_model_module_version": "1.5.0",
            "_model_name": "SliderStyleModel",
            "_view_count": null,
            "_view_module": "@jupyter-widgets/base",
            "_view_module_version": "1.2.0",
            "_view_name": "StyleView",
            "description_width": "",
            "handle_color": null
          }
        },
        "44ab4fc02d534b3480e428c4318904ac": {
          "model_module": "@jupyter-widgets/controls",
          "model_module_version": "1.5.0",
          "model_name": "IntSliderModel",
          "state": {
            "_dom_classes": [],
            "_model_module": "@jupyter-widgets/controls",
            "_model_module_version": "1.5.0",
            "_model_name": "IntSliderModel",
            "_view_count": null,
            "_view_module": "@jupyter-widgets/controls",
            "_view_module_version": "1.5.0",
            "_view_name": "IntSliderView",
            "continuous_update": false,
            "description": "Passo:",
            "description_tooltip": null,
            "disabled": false,
            "layout": "IPY_MODEL_c08fc455115d4f3cb57ca555dfad2e80",
            "max": 7,
            "min": 0,
            "orientation": "horizontal",
            "readout": true,
            "readout_format": "d",
            "step": 1,
            "style": "IPY_MODEL_a11068a8b5794ba88fe02b84ecc178aa",
            "value": 0
          }
        },
        "46dc1942ebcc485e8610cbec98a94706": {
          "model_module": "@jupyter-widgets/controls",
          "model_module_version": "1.5.0",
          "model_name": "SliderStyleModel",
          "state": {
            "_model_module": "@jupyter-widgets/controls",
            "_model_module_version": "1.5.0",
            "_model_name": "SliderStyleModel",
            "_view_count": null,
            "_view_module": "@jupyter-widgets/base",
            "_view_module_version": "1.2.0",
            "_view_name": "StyleView",
            "description_width": "",
            "handle_color": null
          }
        },
        "4bc98279b4244863b049465f4dc3ded9": {
          "model_module": "@jupyter-widgets/controls",
          "model_module_version": "1.5.0",
          "model_name": "SliderStyleModel",
          "state": {
            "_model_module": "@jupyter-widgets/controls",
            "_model_module_version": "1.5.0",
            "_model_name": "SliderStyleModel",
            "_view_count": null,
            "_view_module": "@jupyter-widgets/base",
            "_view_module_version": "1.2.0",
            "_view_name": "StyleView",
            "description_width": "",
            "handle_color": null
          }
        },
        "5c739c5e64244527be9417b7cab2208e": {
          "model_module": "@jupyter-widgets/output",
          "model_module_version": "1.0.0",
          "model_name": "OutputModel",
          "state": {
            "_dom_classes": [],
            "_model_module": "@jupyter-widgets/output",
            "_model_module_version": "1.0.0",
            "_model_name": "OutputModel",
            "_view_count": null,
            "_view_module": "@jupyter-widgets/output",
            "_view_module_version": "1.0.0",
            "_view_name": "OutputView",
            "layout": "IPY_MODEL_f76dad4ee1b641f986188df29ff9ecb9",
            "msg_id": "",
            "outputs": [
              {
                "name": "stdout",
                "output_type": "stream",
                "text": [
                  "⚠️ Nenhum acesso realizado ainda."
                ]
              },
              {
                "name": "stdout",
                "output_type": "stream",
                "text": [
                  "\n"
                ]
              }
            ]
          }
        },
        "6a8911ddc99b426d8d52ede968ff63b7": {
          "model_module": "@jupyter-widgets/controls",
          "model_module_version": "1.5.0",
          "model_name": "IntSliderModel",
          "state": {
            "_dom_classes": [],
            "_model_module": "@jupyter-widgets/controls",
            "_model_module_version": "1.5.0",
            "_model_name": "IntSliderModel",
            "_view_count": null,
            "_view_module": "@jupyter-widgets/controls",
            "_view_module_version": "1.5.0",
            "_view_name": "IntSliderView",
            "continuous_update": false,
            "description": "Passo:",
            "description_tooltip": null,
            "disabled": false,
            "layout": "IPY_MODEL_a773e73ca9f34fcf960cdbc1b869fa50",
            "max": 5,
            "min": 0,
            "orientation": "horizontal",
            "readout": true,
            "readout_format": "d",
            "step": 1,
            "style": "IPY_MODEL_40e5e3e5c6dc4b7b8eb6f5bbc22fabc1",
            "value": 0
          }
        },
        "78c0d7184728493f8e186d82c6a5fc63": {
          "model_module": "@jupyter-widgets/controls",
          "model_module_version": "1.5.0",
          "model_name": "SliderStyleModel",
          "state": {
            "_model_module": "@jupyter-widgets/controls",
            "_model_module_version": "1.5.0",
            "_model_name": "SliderStyleModel",
            "_view_count": null,
            "_view_module": "@jupyter-widgets/base",
            "_view_module_version": "1.2.0",
            "_view_name": "StyleView",
            "description_width": "",
            "handle_color": null
          }
        },
        "7e9af52523df44dfa7cbb2e1ea90f6d5": {
          "model_module": "@jupyter-widgets/base",
          "model_module_version": "1.2.0",
          "model_name": "LayoutModel",
          "state": {
            "_model_module": "@jupyter-widgets/base",
            "_model_module_version": "1.2.0",
            "_model_name": "LayoutModel",
            "_view_count": null,
            "_view_module": "@jupyter-widgets/base",
            "_view_module_version": "1.2.0",
            "_view_name": "LayoutView",
            "align_content": null,
            "align_items": null,
            "align_self": null,
            "border": null,
            "bottom": null,
            "display": null,
            "flex": null,
            "flex_flow": null,
            "grid_area": null,
            "grid_auto_columns": null,
            "grid_auto_flow": null,
            "grid_auto_rows": null,
            "grid_column": null,
            "grid_gap": null,
            "grid_row": null,
            "grid_template_areas": null,
            "grid_template_columns": null,
            "grid_template_rows": null,
            "height": null,
            "justify_content": null,
            "justify_items": null,
            "left": null,
            "margin": null,
            "max_height": null,
            "max_width": null,
            "min_height": null,
            "min_width": null,
            "object_fit": null,
            "object_position": null,
            "order": null,
            "overflow": null,
            "overflow_x": null,
            "overflow_y": null,
            "padding": null,
            "right": null,
            "top": null,
            "visibility": null,
            "width": null
          }
        },
        "a11068a8b5794ba88fe02b84ecc178aa": {
          "model_module": "@jupyter-widgets/controls",
          "model_module_version": "1.5.0",
          "model_name": "SliderStyleModel",
          "state": {
            "_model_module": "@jupyter-widgets/controls",
            "_model_module_version": "1.5.0",
            "_model_name": "SliderStyleModel",
            "_view_count": null,
            "_view_module": "@jupyter-widgets/base",
            "_view_module_version": "1.2.0",
            "_view_name": "StyleView",
            "description_width": "",
            "handle_color": null
          }
        },
        "a14c514efc274ad39c9e2ee888f80c59": {
          "model_module": "@jupyter-widgets/controls",
          "model_module_version": "1.5.0",
          "model_name": "IntSliderModel",
          "state": {
            "_dom_classes": [],
            "_model_module": "@jupyter-widgets/controls",
            "_model_module_version": "1.5.0",
            "_model_name": "IntSliderModel",
            "_view_count": null,
            "_view_module": "@jupyter-widgets/controls",
            "_view_module_version": "1.5.0",
            "_view_name": "IntSliderView",
            "continuous_update": false,
            "description": "Passo:",
            "description_tooltip": null,
            "disabled": false,
            "layout": "IPY_MODEL_d8397493f01940099f2e7576bbb1c2d9",
            "max": 2,
            "min": 0,
            "orientation": "horizontal",
            "readout": true,
            "readout_format": "d",
            "step": 1,
            "style": "IPY_MODEL_d539e637bed44efb94b9f0a38a584118",
            "value": 2
          }
        },
        "a40ee0c618e241f0a82e6ddefbe27082": {
          "model_module": "@jupyter-widgets/output",
          "model_module_version": "1.0.0",
          "model_name": "OutputModel",
          "state": {
            "_dom_classes": [],
            "_model_module": "@jupyter-widgets/output",
            "_model_module_version": "1.0.0",
            "_model_name": "OutputModel",
            "_view_count": null,
            "_view_module": "@jupyter-widgets/output",
            "_view_module_version": "1.0.0",
            "_view_name": "OutputView",
            "layout": "IPY_MODEL_d4111dcd66f8444aac3afde5cad43aa7",
            "msg_id": "",
            "outputs": [
              {
                "name": "stdout",
                "output_type": "stream",
                "text": [
                  "⚠️ Nenhum acesso realizado ainda."
                ]
              },
              {
                "name": "stdout",
                "output_type": "stream",
                "text": [
                  "\n"
                ]
              }
            ]
          }
        },
        "a736ac4fadfd402aa9fe3be875bfed32": {
          "model_module": "@jupyter-widgets/output",
          "model_module_version": "1.0.0",
          "model_name": "OutputModel",
          "state": {
            "_dom_classes": [],
            "_model_module": "@jupyter-widgets/output",
            "_model_module_version": "1.0.0",
            "_model_name": "OutputModel",
            "_view_count": null,
            "_view_module": "@jupyter-widgets/output",
            "_view_module_version": "1.0.0",
            "_view_name": "OutputView",
            "layout": "IPY_MODEL_ed114807c7234d36a258fa717fb05292",
            "msg_id": "",
            "outputs": [
              {
                "name": "stdout",
                "output_type": "stream",
                "text": [
                  "📍 Acesso 2/2: addr = 0x0000D791 | result = MISS"
                ]
              },
              {
                "name": "stdout",
                "output_type": "stream",
                "text": [
                  "\n"
                ]
              },
              {
                "data": {
                  "text/html": "<style type=\"text/css\">\n#T_e9b6f_row0_col0, #T_e9b6f_row0_col1, #T_e9b6f_row1_col0, #T_e9b6f_row1_col1, #T_e9b6f_row2_col0, #T_e9b6f_row2_col1, #T_e9b6f_row3_col0, #T_e9b6f_row3_col1 {\n  text-align: center;\n}\n#T_e9b6f_row0_col2, #T_e9b6f_row2_col2 {\n  text-align: center;\n  text-align: center;\n}\n#T_e9b6f_row1_col2, #T_e9b6f_row3_col2 {\n  background-color: lightgray;\n  text-align: center;\n  text-align: center;\n}\n</style>\n<table id=\"T_e9b6f\" class=\"dataframe\">\n  <thead>\n    <tr>\n      <th class=\"blank level0\" >&nbsp;</th>\n      <th id=\"T_e9b6f_level0_col0\" class=\"col_heading level0 col0\" >group</th>\n      <th id=\"T_e9b6f_level0_col1\" class=\"col_heading level0 col1\" >idx_line</th>\n      <th id=\"T_e9b6f_level0_col2\" class=\"col_heading level0 col2\" >addr</th>\n    </tr>\n  </thead>\n  <tbody>\n    <tr>\n      <th id=\"T_e9b6f_level0_row0\" class=\"row_heading level0 row0\" >0</th>\n      <td id=\"T_e9b6f_row0_col0\" class=\"data row0 col0\" >0</td>\n      <td id=\"T_e9b6f_row0_col1\" class=\"data row0 col1\" >0</td>\n      <td id=\"T_e9b6f_row0_col2\" class=\"data row0 col2\" >0x0000D791</td>\n    </tr>\n    <tr>\n      <th id=\"T_e9b6f_level0_row1\" class=\"row_heading level0 row1\" >1</th>\n      <td id=\"T_e9b6f_row1_col0\" class=\"data row1 col0\" >0</td>\n      <td id=\"T_e9b6f_row1_col1\" class=\"data row1 col1\" >1</td>\n      <td id=\"T_e9b6f_row1_col2\" class=\"data row1 col2\" >-</td>\n    </tr>\n    <tr>\n      <th id=\"T_e9b6f_level0_row2\" class=\"row_heading level0 row2\" >2</th>\n      <td id=\"T_e9b6f_row2_col0\" class=\"data row2 col0\" >1</td>\n      <td id=\"T_e9b6f_row2_col1\" class=\"data row2 col1\" >0</td>\n      <td id=\"T_e9b6f_row2_col2\" class=\"data row2 col2\" >0x00019710</td>\n    </tr>\n    <tr>\n      <th id=\"T_e9b6f_level0_row3\" class=\"row_heading level0 row3\" >3</th>\n      <td id=\"T_e9b6f_row3_col0\" class=\"data row3 col0\" >1</td>\n      <td id=\"T_e9b6f_row3_col1\" class=\"data row3 col1\" >1</td>\n      <td id=\"T_e9b6f_row3_col2\" class=\"data row3 col2\" >-</td>\n    </tr>\n  </tbody>\n</table>\n",
                  "text/plain": "<pandas.io.formats.style.Styler at 0x78880efd0190>"
                },
                "metadata": {},
                "output_type": "display_data"
              }
            ]
          }
        },
        "a773e73ca9f34fcf960cdbc1b869fa50": {
          "model_module": "@jupyter-widgets/base",
          "model_module_version": "1.2.0",
          "model_name": "LayoutModel",
          "state": {
            "_model_module": "@jupyter-widgets/base",
            "_model_module_version": "1.2.0",
            "_model_name": "LayoutModel",
            "_view_count": null,
            "_view_module": "@jupyter-widgets/base",
            "_view_module_version": "1.2.0",
            "_view_name": "LayoutView",
            "align_content": null,
            "align_items": null,
            "align_self": null,
            "border": null,
            "bottom": null,
            "display": null,
            "flex": null,
            "flex_flow": null,
            "grid_area": null,
            "grid_auto_columns": null,
            "grid_auto_flow": null,
            "grid_auto_rows": null,
            "grid_column": null,
            "grid_gap": null,
            "grid_row": null,
            "grid_template_areas": null,
            "grid_template_columns": null,
            "grid_template_rows": null,
            "height": null,
            "justify_content": null,
            "justify_items": null,
            "left": null,
            "margin": null,
            "max_height": null,
            "max_width": null,
            "min_height": null,
            "min_width": null,
            "object_fit": null,
            "object_position": null,
            "order": null,
            "overflow": null,
            "overflow_x": null,
            "overflow_y": null,
            "padding": null,
            "right": null,
            "top": null,
            "visibility": null,
            "width": null
          }
        },
        "ad17e5a31c44497491d87da7e4ecce57": {
          "model_module": "@jupyter-widgets/controls",
          "model_module_version": "1.5.0",
          "model_name": "IntSliderModel",
          "state": {
            "_dom_classes": [],
            "_model_module": "@jupyter-widgets/controls",
            "_model_module_version": "1.5.0",
            "_model_name": "IntSliderModel",
            "_view_count": null,
            "_view_module": "@jupyter-widgets/controls",
            "_view_module_version": "1.5.0",
            "_view_name": "IntSliderView",
            "continuous_update": false,
            "description": "Passo:",
            "description_tooltip": null,
            "disabled": false,
            "layout": "IPY_MODEL_7e9af52523df44dfa7cbb2e1ea90f6d5",
            "max": 7,
            "min": 0,
            "orientation": "horizontal",
            "readout": true,
            "readout_format": "d",
            "step": 1,
            "style": "IPY_MODEL_46dc1942ebcc485e8610cbec98a94706",
            "value": 0
          }
        },
        "b453527ca36a40beb8d200ae2831c368": {
          "model_module": "@jupyter-widgets/output",
          "model_module_version": "1.0.0",
          "model_name": "OutputModel",
          "state": {
            "_dom_classes": [],
            "_model_module": "@jupyter-widgets/output",
            "_model_module_version": "1.0.0",
            "_model_name": "OutputModel",
            "_view_count": null,
            "_view_module": "@jupyter-widgets/output",
            "_view_module_version": "1.0.0",
            "_view_name": "OutputView",
            "layout": "IPY_MODEL_1d298bea16f24d35a1b42ac07c54cb6f",
            "msg_id": "",
            "outputs": [
              {
                "name": "stdout",
                "output_type": "stream",
                "text": [
                  "⚠️ Nenhum acesso realizado ainda."
                ]
              },
              {
                "name": "stdout",
                "output_type": "stream",
                "text": [
                  "\n"
                ]
              }
            ]
          }
        },
        "ba769dbbd2f54a00a4fed9db99860ebd": {
          "model_module": "@jupyter-widgets/controls",
          "model_module_version": "1.5.0",
          "model_name": "IntSliderModel",
          "state": {
            "_dom_classes": [],
            "_model_module": "@jupyter-widgets/controls",
            "_model_module_version": "1.5.0",
            "_model_name": "IntSliderModel",
            "_view_count": null,
            "_view_module": "@jupyter-widgets/controls",
            "_view_module_version": "1.5.0",
            "_view_name": "IntSliderView",
            "continuous_update": false,
            "description": "Passo:",
            "description_tooltip": null,
            "disabled": false,
            "layout": "IPY_MODEL_0dfcd950417140e98882d3afb134ff1a",
            "max": 8,
            "min": 0,
            "orientation": "horizontal",
            "readout": true,
            "readout_format": "d",
            "step": 1,
            "style": "IPY_MODEL_78c0d7184728493f8e186d82c6a5fc63",
            "value": 0
          }
        },
        "c08fc455115d4f3cb57ca555dfad2e80": {
          "model_module": "@jupyter-widgets/base",
          "model_module_version": "1.2.0",
          "model_name": "LayoutModel",
          "state": {
            "_model_module": "@jupyter-widgets/base",
            "_model_module_version": "1.2.0",
            "_model_name": "LayoutModel",
            "_view_count": null,
            "_view_module": "@jupyter-widgets/base",
            "_view_module_version": "1.2.0",
            "_view_name": "LayoutView",
            "align_content": null,
            "align_items": null,
            "align_self": null,
            "border": null,
            "bottom": null,
            "display": null,
            "flex": null,
            "flex_flow": null,
            "grid_area": null,
            "grid_auto_columns": null,
            "grid_auto_flow": null,
            "grid_auto_rows": null,
            "grid_column": null,
            "grid_gap": null,
            "grid_row": null,
            "grid_template_areas": null,
            "grid_template_columns": null,
            "grid_template_rows": null,
            "height": null,
            "justify_content": null,
            "justify_items": null,
            "left": null,
            "margin": null,
            "max_height": null,
            "max_width": null,
            "min_height": null,
            "min_width": null,
            "object_fit": null,
            "object_position": null,
            "order": null,
            "overflow": null,
            "overflow_x": null,
            "overflow_y": null,
            "padding": null,
            "right": null,
            "top": null,
            "visibility": null,
            "width": null
          }
        },
        "c20fbb41563b42c9bafaed9b4d766164": {
          "model_module": "@jupyter-widgets/base",
          "model_module_version": "1.2.0",
          "model_name": "LayoutModel",
          "state": {
            "_model_module": "@jupyter-widgets/base",
            "_model_module_version": "1.2.0",
            "_model_name": "LayoutModel",
            "_view_count": null,
            "_view_module": "@jupyter-widgets/base",
            "_view_module_version": "1.2.0",
            "_view_name": "LayoutView",
            "align_content": null,
            "align_items": null,
            "align_self": null,
            "border": null,
            "bottom": null,
            "display": null,
            "flex": null,
            "flex_flow": null,
            "grid_area": null,
            "grid_auto_columns": null,
            "grid_auto_flow": null,
            "grid_auto_rows": null,
            "grid_column": null,
            "grid_gap": null,
            "grid_row": null,
            "grid_template_areas": null,
            "grid_template_columns": null,
            "grid_template_rows": null,
            "height": null,
            "justify_content": null,
            "justify_items": null,
            "left": null,
            "margin": null,
            "max_height": null,
            "max_width": null,
            "min_height": null,
            "min_width": null,
            "object_fit": null,
            "object_position": null,
            "order": null,
            "overflow": null,
            "overflow_x": null,
            "overflow_y": null,
            "padding": null,
            "right": null,
            "top": null,
            "visibility": null,
            "width": null
          }
        },
        "ca8880ea8d64449cb9ced855140057a3": {
          "model_module": "@jupyter-widgets/output",
          "model_module_version": "1.0.0",
          "model_name": "OutputModel",
          "state": {
            "_dom_classes": [],
            "_model_module": "@jupyter-widgets/output",
            "_model_module_version": "1.0.0",
            "_model_name": "OutputModel",
            "_view_count": null,
            "_view_module": "@jupyter-widgets/output",
            "_view_module_version": "1.0.0",
            "_view_name": "OutputView",
            "layout": "IPY_MODEL_1206bb4afec3449c902407bcf9cb5b3d",
            "msg_id": "",
            "outputs": [
              {
                "name": "stdout",
                "output_type": "stream",
                "text": [
                  "⚠️ Nenhum acesso realizado ainda."
                ]
              },
              {
                "name": "stdout",
                "output_type": "stream",
                "text": [
                  "\n"
                ]
              }
            ]
          }
        },
        "d4111dcd66f8444aac3afde5cad43aa7": {
          "model_module": "@jupyter-widgets/base",
          "model_module_version": "1.2.0",
          "model_name": "LayoutModel",
          "state": {
            "_model_module": "@jupyter-widgets/base",
            "_model_module_version": "1.2.0",
            "_model_name": "LayoutModel",
            "_view_count": null,
            "_view_module": "@jupyter-widgets/base",
            "_view_module_version": "1.2.0",
            "_view_name": "LayoutView",
            "align_content": null,
            "align_items": null,
            "align_self": null,
            "border": null,
            "bottom": null,
            "display": null,
            "flex": null,
            "flex_flow": null,
            "grid_area": null,
            "grid_auto_columns": null,
            "grid_auto_flow": null,
            "grid_auto_rows": null,
            "grid_column": null,
            "grid_gap": null,
            "grid_row": null,
            "grid_template_areas": null,
            "grid_template_columns": null,
            "grid_template_rows": null,
            "height": null,
            "justify_content": null,
            "justify_items": null,
            "left": null,
            "margin": null,
            "max_height": null,
            "max_width": null,
            "min_height": null,
            "min_width": null,
            "object_fit": null,
            "object_position": null,
            "order": null,
            "overflow": null,
            "overflow_x": null,
            "overflow_y": null,
            "padding": null,
            "right": null,
            "top": null,
            "visibility": null,
            "width": null
          }
        },
        "d539e637bed44efb94b9f0a38a584118": {
          "model_module": "@jupyter-widgets/controls",
          "model_module_version": "1.5.0",
          "model_name": "SliderStyleModel",
          "state": {
            "_model_module": "@jupyter-widgets/controls",
            "_model_module_version": "1.5.0",
            "_model_name": "SliderStyleModel",
            "_view_count": null,
            "_view_module": "@jupyter-widgets/base",
            "_view_module_version": "1.2.0",
            "_view_name": "StyleView",
            "description_width": "",
            "handle_color": null
          }
        },
        "d8397493f01940099f2e7576bbb1c2d9": {
          "model_module": "@jupyter-widgets/base",
          "model_module_version": "1.2.0",
          "model_name": "LayoutModel",
          "state": {
            "_model_module": "@jupyter-widgets/base",
            "_model_module_version": "1.2.0",
            "_model_name": "LayoutModel",
            "_view_count": null,
            "_view_module": "@jupyter-widgets/base",
            "_view_module_version": "1.2.0",
            "_view_name": "LayoutView",
            "align_content": null,
            "align_items": null,
            "align_self": null,
            "border": null,
            "bottom": null,
            "display": null,
            "flex": null,
            "flex_flow": null,
            "grid_area": null,
            "grid_auto_columns": null,
            "grid_auto_flow": null,
            "grid_auto_rows": null,
            "grid_column": null,
            "grid_gap": null,
            "grid_row": null,
            "grid_template_areas": null,
            "grid_template_columns": null,
            "grid_template_rows": null,
            "height": null,
            "justify_content": null,
            "justify_items": null,
            "left": null,
            "margin": null,
            "max_height": null,
            "max_width": null,
            "min_height": null,
            "min_width": null,
            "object_fit": null,
            "object_position": null,
            "order": null,
            "overflow": null,
            "overflow_x": null,
            "overflow_y": null,
            "padding": null,
            "right": null,
            "top": null,
            "visibility": null,
            "width": null
          }
        },
        "ed114807c7234d36a258fa717fb05292": {
          "model_module": "@jupyter-widgets/base",
          "model_module_version": "1.2.0",
          "model_name": "LayoutModel",
          "state": {
            "_model_module": "@jupyter-widgets/base",
            "_model_module_version": "1.2.0",
            "_model_name": "LayoutModel",
            "_view_count": null,
            "_view_module": "@jupyter-widgets/base",
            "_view_module_version": "1.2.0",
            "_view_name": "LayoutView",
            "align_content": null,
            "align_items": null,
            "align_self": null,
            "border": null,
            "bottom": null,
            "display": null,
            "flex": null,
            "flex_flow": null,
            "grid_area": null,
            "grid_auto_columns": null,
            "grid_auto_flow": null,
            "grid_auto_rows": null,
            "grid_column": null,
            "grid_gap": null,
            "grid_row": null,
            "grid_template_areas": null,
            "grid_template_columns": null,
            "grid_template_rows": null,
            "height": null,
            "justify_content": null,
            "justify_items": null,
            "left": null,
            "margin": null,
            "max_height": null,
            "max_width": null,
            "min_height": null,
            "min_width": null,
            "object_fit": null,
            "object_position": null,
            "order": null,
            "overflow": null,
            "overflow_x": null,
            "overflow_y": null,
            "padding": null,
            "right": null,
            "top": null,
            "visibility": null,
            "width": null
          }
        },
        "eeca9c3a54f045e7af4ba03beaf0dfe8": {
          "model_module": "@jupyter-widgets/output",
          "model_module_version": "1.0.0",
          "model_name": "OutputModel",
          "state": {
            "_dom_classes": [],
            "_model_module": "@jupyter-widgets/output",
            "_model_module_version": "1.0.0",
            "_model_name": "OutputModel",
            "_view_count": null,
            "_view_module": "@jupyter-widgets/output",
            "_view_module_version": "1.0.0",
            "_view_name": "OutputView",
            "layout": "IPY_MODEL_137b090c46f04d86845e30cdb5773148",
            "msg_id": "",
            "outputs": [
              {
                "name": "stdout",
                "output_type": "stream",
                "text": [
                  "⚠️ Nenhum acesso realizado ainda."
                ]
              },
              {
                "name": "stdout",
                "output_type": "stream",
                "text": [
                  "\n"
                ]
              }
            ]
          }
        },
        "f76dad4ee1b641f986188df29ff9ecb9": {
          "model_module": "@jupyter-widgets/base",
          "model_module_version": "1.2.0",
          "model_name": "LayoutModel",
          "state": {
            "_model_module": "@jupyter-widgets/base",
            "_model_module_version": "1.2.0",
            "_model_name": "LayoutModel",
            "_view_count": null,
            "_view_module": "@jupyter-widgets/base",
            "_view_module_version": "1.2.0",
            "_view_name": "LayoutView",
            "align_content": null,
            "align_items": null,
            "align_self": null,
            "border": null,
            "bottom": null,
            "display": null,
            "flex": null,
            "flex_flow": null,
            "grid_area": null,
            "grid_auto_columns": null,
            "grid_auto_flow": null,
            "grid_auto_rows": null,
            "grid_column": null,
            "grid_gap": null,
            "grid_row": null,
            "grid_template_areas": null,
            "grid_template_columns": null,
            "grid_template_rows": null,
            "height": null,
            "justify_content": null,
            "justify_items": null,
            "left": null,
            "margin": null,
            "max_height": null,
            "max_width": null,
            "min_height": null,
            "min_width": null,
            "object_fit": null,
            "object_position": null,
            "order": null,
            "overflow": null,
            "overflow_x": null,
            "overflow_y": null,
            "padding": null,
            "right": null,
            "top": null,
            "visibility": null,
            "width": null
          }
        }
      }
    }
  },
  "nbformat": 4,
  "nbformat_minor": 0
}
